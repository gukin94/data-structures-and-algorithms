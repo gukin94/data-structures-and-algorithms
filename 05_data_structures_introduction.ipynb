{
 "cells": [
  {
   "cell_type": "markdown",
   "id": "110883f4",
   "metadata": {},
   "source": [
    "## 59. Section overview\n",
    "* Libraries keep changing, but the fundamental of data structures and algorithms don't. That's why those are important."
   ]
  },
  {
   "cell_type": "markdown",
   "id": "bfbf6f22",
   "metadata": {},
   "source": [
    "## 60. What is a data structure?\n",
    "* It is collection of data.\n",
    "* Each data structure is good and specialized for its own things.\n",
    "* Container == data structure. There are thousands of them.\n",
    "* Go check out \"https://en.wikipedia.org/wiki/List_of_data_structures\"\n",
    "* We are modeling real life senario.\n",
    "* There is always trade-off: one is better in some aspects, and the other is better in some aspects.\n",
    "\n",
    "1. How to build one. -> it is already built in advance.\n",
    "2. How to use it -> this is more important.\n",
    "\n",
    "Goal of this course is that you can understand the what is the data structure and pick the right one to use in the right place."
   ]
  },
  {
   "cell_type": "markdown",
   "id": "8bde00ab",
   "metadata": {},
   "source": [
    "## 61. How computers store data\n",
    "* CPU (need to access to the RAM and Storage)\n",
    "* RAM (keep track of variables like string, int) when the computer turns off we lose the data.\n",
    "* Storage (store video file, document -> SSD, persistent) This is slower than RAM.\n",
    "\n",
    "8 bits = 0000 0001 = 1 Byte = each shelf\n",
    "we can access to each shelf = any address random access memory.\n",
    "If you want to make it fast, you should have the addresses that are close each other.\n",
    "\n",
    "So the data structure is arrangement of the data in RAM. Some are organized close each others, and some are not.\n",
    "\n",
    "go check out \n",
    "1. \"https://www.youtube.com/watch?v=fpnE6UAfbtU&ab_channel=CrashCourse\"\n",
    "2. \"https://statmath.wu.ac.at/courses/data-analysis/itdtHTML/node55.html\""
   ]
  },
  {
   "cell_type": "code",
   "execution_count": 10,
   "id": "7dc73727",
   "metadata": {},
   "outputs": [
    {
     "name": "stdout",
     "output_type": "stream",
     "text": [
      "16777216.0\n"
     ]
    }
   ],
   "source": [
    "import math\n",
    "\n",
    "print(math.pow(8, 8))"
   ]
  },
  {
   "cell_type": "markdown",
   "id": "ac2fcd47",
   "metadata": {},
   "source": [
    "## 62. Data structures in different languages\n",
    "* each language has its own data types.\n",
    "* data type.\n",
    "* we can also create and build our own. If python doesn't have stack? then we can create one."
   ]
  },
  {
   "cell_type": "markdown",
   "id": "aa381bfe",
   "metadata": {},
   "source": [
    "## 63. Operations on data structures\n",
    "* Insertion\n",
    "* Deletion\n",
    "* Traversal\n",
    "* Searching\n",
    "* Sorting\n",
    "* Access -> most important\n",
    "\n",
    "![big-O Complexity Chart](./img/common-data-structure-operations.PNG)"
   ]
  },
  {
   "cell_type": "code",
   "execution_count": null,
   "id": "f2c1f613",
   "metadata": {},
   "outputs": [],
   "source": []
  }
 ],
 "metadata": {
  "kernelspec": {
   "display_name": "Python 3 (ipykernel)",
   "language": "python",
   "name": "python3"
  },
  "language_info": {
   "codemirror_mode": {
    "name": "ipython",
    "version": 3
   },
   "file_extension": ".py",
   "mimetype": "text/x-python",
   "name": "python",
   "nbconvert_exporter": "python",
   "pygments_lexer": "ipython3",
   "version": "3.9.12"
  }
 },
 "nbformat": 4,
 "nbformat_minor": 5
}
