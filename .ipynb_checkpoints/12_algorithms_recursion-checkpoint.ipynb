{
 "cells": [
  {
   "cell_type": "markdown",
   "id": "3bc1357b",
   "metadata": {},
   "source": [
    "## 152. Introduction to algorithms\n",
    "Algorithms are simply steps in a process that we take to perform a desired action with computers.\n",
    "  \n",
    "Data Structures + Algorithms = Programs"
   ]
  },
  {
   "cell_type": "markdown",
   "id": "9aa63671",
   "metadata": {},
   "source": [
    "## 153. Recursion Introduction\n",
    "* Recursion isn't technically an algorithm. It is more of a concept.  \n",
    "* When we get into sorting and searching through our binary search tree, we're going to be using recursion.\n",
    "* It's a common topic in the interview.(popular one)\n",
    "\n",
    "### what is recusion?\n",
    "* Recursion is when you define something in terms of itself, simply it's a function that refers to itself inside of the function.\n",
    "\n",
    "```python\n",
    "def inception():\n",
    "    inception()\n",
    "```\n",
    "\n",
    "* recursion is really good for tasks that have repeated subtasks to do.\n",
    "* this concept is going to be used in searching and sorting algorithms that we're going to talk about."
   ]
  },
  {
   "cell_type": "markdown",
   "id": "eccfa112",
   "metadata": {},
   "source": [
    "## 154. Stack Overflow"
   ]
  },
  {
   "cell_type": "code",
   "execution_count": 2,
   "id": "cb14cffd",
   "metadata": {},
   "outputs": [],
   "source": [
    "def inception():\n",
    "    inception"
   ]
  },
  {
   "cell_type": "markdown",
   "id": "6d16ca7d",
   "metadata": {},
   "source": [
    "Maximum call stack size exceeded which is called stack Overflow\n",
    "\n",
    "* The computer needs to allocate memory to remember things. Stack Overflow can occur when we have recursion, and there's no way to stop this recursive call."
   ]
  },
  {
   "cell_type": "markdown",
   "id": "ad08b587",
   "metadata": {},
   "source": [
    "## 155. Anatomy of Recursion"
   ]
  },
  {
   "cell_type": "code",
   "execution_count": 8,
   "id": "7867077d",
   "metadata": {},
   "outputs": [
    {
     "name": "stdout",
     "output_type": "stream",
     "text": [
      "0\n",
      "1\n",
      "2\n",
      "3\n",
      "4\n"
     ]
    }
   ],
   "source": [
    "counter = 0 \n",
    "def inception():\n",
    "    global counter\n",
    "    print(counter)\n",
    "    if counter > 3:\n",
    "        return 'done!'\n",
    "    counter += 1\n",
    "    inception()\n",
    "    \n",
    "inception()"
   ]
  },
  {
   "cell_type": "markdown",
   "id": "5265869d",
   "metadata": {},
   "source": [
    "why there is no 'done!'?"
   ]
  },
  {
   "cell_type": "code",
   "execution_count": null,
   "id": "9f73f578",
   "metadata": {},
   "outputs": [],
   "source": [
    "inception(inception(inception(inception(inception())))) \n",
    "# and it stops and it now going to start popping off these functions because we have return function!"
   ]
  },
  {
   "cell_type": "code",
   "execution_count": null,
   "id": "b8028fb8",
   "metadata": {},
   "outputs": [],
   "source": [
    "inception(inception(inception(inception('done'))))  # now function 'inception' never returns anything."
   ]
  },
  {
   "cell_type": "code",
   "execution_count": 9,
   "id": "3dee2648",
   "metadata": {},
   "outputs": [
    {
     "name": "stdout",
     "output_type": "stream",
     "text": [
      "0\n",
      "1\n",
      "2\n",
      "3\n",
      "4\n"
     ]
    },
    {
     "data": {
      "text/plain": [
       "'done!'"
      ]
     },
     "execution_count": 9,
     "metadata": {},
     "output_type": "execute_result"
    }
   ],
   "source": [
    "# to solve this problem\n",
    "counter = 0 \n",
    "def inception():\n",
    "    global counter\n",
    "    print(counter)\n",
    "    if counter > 3:\n",
    "        return 'done!'\n",
    "    counter += 1\n",
    "    return inception()\n",
    "\n",
    "inception()"
   ]
  },
  {
   "cell_type": "markdown",
   "id": "53f9b157",
   "metadata": {},
   "source": [
    "1. Identify the base case (when to stop -> recursive case)\n",
    "2. Identify the recursive case\n",
    "3. Get closer and closer and return when needed. Usually you have 2 returns."
   ]
  },
  {
   "cell_type": "markdown",
   "id": "5d8c720e",
   "metadata": {},
   "source": [
    "## 156. Exercise: Factorial"
   ]
  },
  {
   "cell_type": "code",
   "execution_count": 36,
   "id": "66c01794",
   "metadata": {},
   "outputs": [
    {
     "data": {
      "text/plain": [
       "120"
      ]
     },
     "execution_count": 36,
     "metadata": {},
     "output_type": "execute_result"
    }
   ],
   "source": [
    "# Write two functions that finds the factorial of any number.\n",
    "# One should use recursive, the other should just use a for loop.\n",
    "\n",
    "answer = 1\n",
    "def find_factorial_recursive(number):\n",
    "    if number == 2:\n",
    "        return 2\n",
    "    return number * find_factorial_recursive(number-1)\n",
    "\n",
    "find_factorial_recursive(5)"
   ]
  },
  {
   "cell_type": "code",
   "execution_count": 16,
   "id": "9057a526",
   "metadata": {},
   "outputs": [
    {
     "name": "stdout",
     "output_type": "stream",
     "text": [
      "answer: 5\n",
      "number: 4\n",
      "\n",
      "answer: 20\n",
      "number: 3\n",
      "\n",
      "answer: 60\n",
      "number: 2\n",
      "\n",
      "answer: 120\n",
      "number: 1\n",
      "\n",
      "answer: 120\n",
      "number: 0\n",
      "\n"
     ]
    },
    {
     "data": {
      "text/plain": [
       "120"
      ]
     },
     "execution_count": 16,
     "metadata": {},
     "output_type": "execute_result"
    }
   ],
   "source": [
    "def find_factorial_interative(number):\n",
    "    answer = 1\n",
    "    while number > 0:\n",
    "        answer *= number\n",
    "        number -= 1\n",
    "        print(f'answer: {answer}')\n",
    "        print(f'number: {number}\\n')\n",
    "    return answer\n",
    "\n",
    "find_factorial_interative(5)"
   ]
  },
  {
   "cell_type": "markdown",
   "id": "1cafc7b9",
   "metadata": {},
   "source": [
    "both cases are O(n) time complextity"
   ]
  },
  {
   "cell_type": "markdown",
   "id": "7b9f8096",
   "metadata": {},
   "source": [
    "## 158. Exercise: Fibonacci"
   ]
  },
  {
   "cell_type": "code",
   "execution_count": 46,
   "id": "cffe2e98",
   "metadata": {},
   "outputs": [
    {
     "name": "stdout",
     "output_type": "stream",
     "text": [
      "1\n",
      "2\n",
      "3\n",
      "5\n",
      "8\n"
     ]
    },
    {
     "data": {
      "text/plain": [
       "8"
      ]
     },
     "execution_count": 46,
     "metadata": {},
     "output_type": "execute_result"
    }
   ],
   "source": [
    "# given a number N return the index value of the Fibonacci\n",
    "# sequence, where the sequence is:\n",
    "# 0, 1, 1, 2, 3, 5, 8, 13, 21, 34, 55, 89, 144, ...\n",
    "# the pattern of the sequence is that each value is the sum of\n",
    "# the 2 previous values, that means that for N=5 -> 2+3\n",
    "\n",
    "\n",
    "def fibonacci_iterative(n):\n",
    "    if n == 0:\n",
    "        return 0\n",
    "    elif n == 1:\n",
    "        return 1\n",
    "    else:\n",
    "        array = [0, 1]\n",
    "        for i in range(2,n+1):\n",
    "            next_num =  array[i-1] + array[i-2]\n",
    "            print(next_num)\n",
    "            array.append(next_num)\n",
    "        return array[-1]\n",
    "            \n",
    "fibonacci_iterative(6)"
   ]
  },
  {
   "cell_type": "code",
   "execution_count": 51,
   "id": "9a349b7c",
   "metadata": {},
   "outputs": [
    {
     "name": "stdout",
     "output_type": "stream",
     "text": [
      "1\n",
      "2\n",
      "3\n",
      "5\n",
      "8\n"
     ]
    },
    {
     "data": {
      "text/plain": [
       "8"
      ]
     },
     "execution_count": 51,
     "metadata": {},
     "output_type": "execute_result"
    }
   ],
   "source": [
    "def fibonacci_iterative_recursive(n):\n",
    "    if n == 0:\n",
    "        return 0\n",
    "    elif n == 1:\n",
    "        return 1\n",
    "    else:\n",
    "        return fibonacci_iterative_recursive(n-1) + fibonacci_iterative_recursive(n-2)\n",
    "\n",
    "fibonacci_iterative(6)"
   ]
  },
  {
   "cell_type": "markdown",
   "id": "a10ed82c",
   "metadata": {},
   "source": [
    "## 159. Solution: Fibonacci"
   ]
  },
  {
   "cell_type": "code",
   "execution_count": null,
   "id": "6bbfd8ab",
   "metadata": {},
   "outputs": [],
   "source": [
    "# given a number N return the index value of the Fibonacci\n",
    "# sequence, where the sequence is:\n",
    "# 0, 1, 1, 2, 3, 5, 8, 13, 21, 34, 55, 89, 144, ...\n",
    "# the pattern of the sequence is that each value is the sum of\n",
    "# the 2 previous values, that means that for N=5 -> 2+3\n",
    "\n",
    "\n",
    "def fibonacci_iterative(n): # -> O(n)\n",
    "    array = [0, 1]\n",
    "    \n",
    "    for i in range(2, n+1):\n",
    "        num_i = array[i-1] + array[i-2]\n",
    "        array.append(num_i)\n",
    "        return array[n]\n",
    "            \n",
    "fibonacci_iterative(6)"
   ]
  },
  {
   "cell_type": "code",
   "execution_count": null,
   "id": "e8f1218d",
   "metadata": {},
   "outputs": [],
   "source": [
    "def fibonacci_iterative_recursive(n):  # -> exponential time. tree of fib() O(2^n)\n",
    "    if n < 2:\n",
    "        return n\n",
    "    else:\n",
    "        return fibonacci_iterative_recursive(n-1) + fibonacci_iterative_recursive(n-2)\n",
    "\n",
    "fibonacci_iterative(6)"
   ]
  },
  {
   "cell_type": "markdown",
   "id": "170b9099",
   "metadata": {},
   "source": [
    "## 160. Recursive vs. Iterative\n",
    "* Anything you do with a recursion can be done iteratively (loop)\n",
    "* recursive functions, allows your code to be more readable and also dry\n",
    "* but large stack needed in recursive functions.\n",
    "* tail call optimization"
   ]
  },
  {
   "cell_type": "markdown",
   "id": "9988f74c",
   "metadata": {},
   "source": [
    "## 161. When to use recursion\n",
    "### New Rule:\n",
    "Every time you are **using a tree** or converting Something into a tree, consider recursion.\n",
    "1. Divided into a number of subproblems that are smaller instances of the same problem.\n",
    "2. Each instance of the subproblem is identical in nature.\n",
    "3. The solutions of each subproblem can be combined to solve the problem at hand.\n",
    "Dived and Conquer using Recursion"
   ]
  },
  {
   "cell_type": "markdown",
   "id": "7760bff5",
   "metadata": {},
   "source": [
    "## 163. Recursion Review\n",
    "Recursion:\n",
    "* Merge sort\n",
    "* Quick Sort\n",
    "* Tree Traveral\n",
    "* Graph Traversal"
   ]
  }
 ],
 "metadata": {
  "kernelspec": {
   "display_name": "Python 3 (ipykernel)",
   "language": "python",
   "name": "python3"
  },
  "language_info": {
   "codemirror_mode": {
    "name": "ipython",
    "version": 3
   },
   "file_extension": ".py",
   "mimetype": "text/x-python",
   "name": "python",
   "nbconvert_exporter": "python",
   "pygments_lexer": "ipython3",
   "version": "3.9.12"
  }
 },
 "nbformat": 4,
 "nbformat_minor": 5
}
