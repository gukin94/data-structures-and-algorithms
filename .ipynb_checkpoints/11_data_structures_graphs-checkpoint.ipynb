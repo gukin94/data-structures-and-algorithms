{
 "cells": [
  {
   "cell_type": "markdown",
   "id": "307a5266",
   "metadata": {},
   "source": [
    "## 143. Graphs introduction\n",
    "when modeling real life, it is most useful data structure.\n",
    "\n",
    "some terms.\n",
    "* node(vertex) - connect via edges (kind of like internet or relationship)"
   ]
  },
  {
   "cell_type": "markdown",
   "id": "080c6b47",
   "metadata": {},
   "source": [
    "## 144. Types of Graphs\n",
    "* directed -> trafic flow\n",
    "* Undirected \n",
    "\n",
    "face book -> undirected graphs (friends are not one way)\n",
    "twitter -> directed graphs (followers)\n",
    "\n",
    "* weighted graphs ( we can have information in the edges) -> calculating optimal path\n",
    "* unweighted\n",
    "\n",
    "  \n",
    "* cyclic\n",
    "* Acyclic"
   ]
  },
  {
   "cell_type": "markdown",
   "id": "d48f074a",
   "metadata": {},
   "source": [
    "## 145. Exercise: Guess the Graph\n",
    "https://visualgo.net/en/graphds?slide=1"
   ]
  },
  {
   "cell_type": "markdown",
   "id": "7b8a95b7",
   "metadata": {},
   "source": [
    "## 146. Graph Data\n",
    "Graph data structure can be built on top of other data structure."
   ]
  },
  {
   "cell_type": "code",
   "execution_count": null,
   "id": "c53ec0e3",
   "metadata": {},
   "outputs": [],
   "source": [
    "## Edge list\n",
    "graph1 = [[0, 2], [2, 3], [2, 1], [1, 3]]  # it shows simple connections.\n",
    "\n",
    "## Adjacent list\n",
    "graph2 = [[2], [2,3],[0,1,3],[1,2]]  # The index of the array is the value of the actual Graph node.\n",
    "\n",
    "## Adjacent Matrix\n",
    "graph3 = [\n",
    "    [0, 0, 1, 0], # value 1\n",
    "    [0, 0, 1, 1],\n",
    "    [1, 1, 0, 1],\n",
    "    [0, 1, 1, 0]\n",
    "]"
   ]
  },
  {
   "cell_type": "markdown",
   "id": "b6fcdbca",
   "metadata": {},
   "source": [
    "## 147. Exercise: Graph Implementation"
   ]
  },
  {
   "cell_type": "code",
   "execution_count": null,
   "id": "fd7578eb",
   "metadata": {},
   "outputs": [],
   "source": [
    "class Graph:\n",
    "    def __init__(self):\n",
    "        self.number_of_nodes = 0\n",
    "        self.adjacent_list = {}\n",
    "        \n",
    "    def add_vertex(self, node):\n",
    "        self.adjacent_list[node] = []\n",
    "        self.number_of_nodes += 1\n",
    "    \n",
    "    def add_edge(self, node1, node2):\n",
    "        self.adjacent_list[node1].append(node2)\n",
    "        self.adjacent_list[node2].append(node1) # we have to do it the other way around as well.\n",
    "\n",
    "    def show_connections(self):\n",
    "        pass\n",
    "    \n",
    "my_graph = Graph()\n",
    "my_graph.add_vertex('0')\n",
    "my_graph.add_vertex('1')\n",
    "my_graph.add_vertex('2')\n",
    "my_graph.add_vertex('3')\n",
    "my_graph.add_vertex('4')\n",
    "my_graph.add_vertex('5')\n",
    "my_graph.add_vertex('6')\n",
    "my_graph.add_edge('3', '1')\n",
    "my_graph.add_edge('3', '4')\n",
    "my_graph.add_edge('4', '2')\n",
    "my_graph.add_edge('3', '1')\n",
    "my_graph.add_edge('3', '1')\n"
   ]
  },
  {
   "cell_type": "markdown",
   "id": "df12ce3d",
   "metadata": {},
   "source": [
    "## 148. Solution: Graph Implementation"
   ]
  }
 ],
 "metadata": {
  "kernelspec": {
   "display_name": "Python 3 (ipykernel)",
   "language": "python",
   "name": "python3"
  },
  "language_info": {
   "codemirror_mode": {
    "name": "ipython",
    "version": 3
   },
   "file_extension": ".py",
   "mimetype": "text/x-python",
   "name": "python",
   "nbconvert_exporter": "python",
   "pygments_lexer": "ipython3",
   "version": "3.9.12"
  }
 },
 "nbformat": 4,
 "nbformat_minor": 5
}
