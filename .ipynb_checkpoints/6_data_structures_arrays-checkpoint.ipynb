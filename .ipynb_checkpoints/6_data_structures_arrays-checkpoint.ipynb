{
 "cells": [
  {
   "cell_type": "markdown",
   "id": "9fcdef63",
   "metadata": {},
   "source": [
    "## 64. Arrays introduction\n",
    "* sometime called list\n",
    "* orgarnize things sequatially meaning one after others in memory.\n",
    "* \n",
    "\n",
    "### Big O\n",
    "* loopup O(1)\n",
    "* push O(1)\n",
    "* insert O(n)\n",
    "* delete O(n)\n",
    "\n"
   ]
  },
  {
   "cell_type": "code",
   "execution_count": 1,
   "id": "3422f644",
   "metadata": {},
   "outputs": [
    {
     "data": {
      "text/plain": [
       "'c'"
      ]
     },
     "execution_count": 1,
     "metadata": {},
     "output_type": "execute_result"
    }
   ],
   "source": [
    "strings = ['a', 'b', 'c', 'd']\n",
    "## 4 items * 4 shelf for one char = 16 bytes of the storage.\n",
    "\n",
    "strings[2]  # grab 3rd item."
   ]
  },
  {
   "cell_type": "code",
   "execution_count": 2,
   "id": "b2efa22e",
   "metadata": {},
   "outputs": [
    {
     "name": "stdout",
     "output_type": "stream",
     "text": [
      "['a', 'b', 'c', 'd', 'e']\n"
     ]
    }
   ],
   "source": [
    "strings = ['a', 'b', 'c', 'd']\n",
    "\n",
    "# push\n",
    "strings.append('e')  # O(1)\n",
    "print(strings)"
   ]
  },
  {
   "cell_type": "code",
   "execution_count": 4,
   "id": "dcedf8b5",
   "metadata": {},
   "outputs": [
    {
     "name": "stdout",
     "output_type": "stream",
     "text": [
      "['a', 'b', 'c']\n"
     ]
    }
   ],
   "source": [
    "strings = ['a', 'b', 'c', 'd']\n",
    "\n",
    "# pop\n",
    "strings.pop()  # O(1) because we are not looping through the list. computers know where the last item is.\n",
    "\n",
    "print(strings)"
   ]
  },
  {
   "cell_type": "code",
   "execution_count": 5,
   "id": "f2a24c68",
   "metadata": {},
   "outputs": [
    {
     "name": "stdout",
     "output_type": "stream",
     "text": [
      "['x', 'a', 'b', 'c', 'd']\n"
     ]
    }
   ],
   "source": [
    "strings = ['a', 'b', 'c', 'd']\n",
    "\n",
    "# unshift\n",
    "strings.insert(0, 'x')  # we have to shift the original element in the list to the right and insert new one.\n",
    "print(strings)"
   ]
  }
 ],
 "metadata": {
  "kernelspec": {
   "display_name": "Python 3 (ipykernel)",
   "language": "python",
   "name": "python3"
  },
  "language_info": {
   "codemirror_mode": {
    "name": "ipython",
    "version": 3
   },
   "file_extension": ".py",
   "mimetype": "text/x-python",
   "name": "python",
   "nbconvert_exporter": "python",
   "pygments_lexer": "ipython3",
   "version": "3.9.12"
  }
 },
 "nbformat": 4,
 "nbformat_minor": 5
}
