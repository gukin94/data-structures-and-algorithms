{
 "cells": [
  {
   "cell_type": "markdown",
   "id": "c62c2eaf",
   "metadata": {},
   "source": [
    "## 76. Hash tables introduction"
   ]
  },
  {
   "cell_type": "markdown",
   "id": "93d91180",
   "metadata": {},
   "source": [
    " * There are many ways to call hash table in different language.\n",
    " * Arrays and Hash table are the most common coding questions.\n",
    " * In Python, it's called dictionary.\n",
    " * What does the name of hash tables come from?\n",
    " * key, value pair `basket.grapes = 10000`\n",
    " \n",
    " Hash Tables\n",
    " key \"grapes\"\n",
    " key is used as the index where to find the value in the memory shelf."
   ]
  },
  {
   "cell_type": "markdown",
   "id": "6ae19e52",
   "metadata": {},
   "source": [
    "## 77. Hash function\n",
    "function that generates a value of fixed length for input that it gets.\n",
    "\n",
    "md5 is the type of hash function -> http://www.miraclesalad.com/webtools/md5.php\n",
    "\n",
    "![md5-hash-generator](./img/md5-hash-generator.PNG)\n",
    "\n",
    "we have no clues what the input is.\n",
    "\n",
    "### idempotent\n",
    "it is the fancy way to say the function that given the input always output is the same output.  \n",
    "advantage: really fast access to the memory.  \n",
    "every language has its own hashing function that is optimal in terms of speed of accessing to the memory address."
   ]
  },
  {
   "cell_type": "markdown",
   "id": "693f6fbd",
   "metadata": {},
   "source": [
    "## 78. Hash collisions\n",
    "\n",
    "### Hash Tables\n",
    "\n",
    "it is address bases. simply use the key and right away we can operate anything.\n",
    "* insert O(1)\n",
    "* lookup O(1)\n",
    "* delete O(1)\n",
    "* search O(1)"
   ]
  },
  {
   "cell_type": "code",
   "execution_count": 18,
   "id": "0f2ea8bf",
   "metadata": {},
   "outputs": [
    {
     "name": "stdout",
     "output_type": "stream",
     "text": [
      "ahhhh!\n"
     ]
    }
   ],
   "source": [
    "def scream():\n",
    "    print(\"ahhhh!\")\n",
    "\n",
    "user = {\n",
    "    \"age\": 54,\n",
    "    \"name\": \"kylie\",\n",
    "    \"magic\": True,\n",
    "    \"scream\": scream\n",
    "}\n",
    "\n",
    "user['age'] # O(1)\n",
    "user['spell'] = \"abra kadabra\" # O(1)\n",
    "user[\"scream\"]()"
   ]
  },
  {
   "cell_type": "markdown",
   "id": "38f5439e",
   "metadata": {},
   "source": [
    "### Main problem with Hash tables\n",
    "it's going to allocate the memory(size)\n",
    "해시 충돌: 서로 다른 두개의 입력값에 대해 동일한 출력값을 내는 상황을 의미.\n",
    "\n",
    "![](https://upload.wikimedia.org/wikipedia/commons/thumb/5/58/Hash_table_4_1_1_0_0_1_0_LL.svg/254px-Hash_table_4_1_1_0_0_1_0_LL.svg.png)  \n",
    "\n",
    "it slows down our ability to be fast. -> O(n/k) -> O(n) where k is the size of your hash table. \n",
    "\n",
    "### 2 ways of solutions\n",
    "1. linked list\n",
    "2. sperate chainning."
   ]
  },
  {
   "cell_type": "markdown",
   "id": "9afe8445",
   "metadata": {},
   "source": [
    "## 79. Hash tables in different languages\n",
    "`map`  \n",
    "`set` it only stores keys\n",
    "\n",
    "both of them are hash tables."
   ]
  },
  {
   "cell_type": "markdown",
   "id": "0b351f44",
   "metadata": {},
   "source": [
    "## 80. Exercise: implement a hash table\n",
    " underscore means that private properties in JS."
   ]
  },
  {
   "cell_type": "code",
   "execution_count": null,
   "id": "55cd077c",
   "metadata": {},
   "outputs": [],
   "source": [
    "class HashTable:\n",
    "    def __init__(self, size):\n",
    "        self.size = size\n",
    "        self.hash = 0\n",
    "        \n",
    "    def _hash(self, key):\n",
    "        for i in range(len(key)):\n",
    "            self.hash = (self.hash +ord(f'{i}')*i) % self.data\n",
    "            return hash\n",
    "        \n",
    "    def _set(self):\n",
    "        \n",
    "        \n",
    "        "
   ]
  },
  {
   "cell_type": "code",
   "execution_count": 25,
   "id": "fac0c75a",
   "metadata": {},
   "outputs": [
    {
     "data": {
      "text/plain": [
       "49"
      ]
     },
     "execution_count": 25,
     "metadata": {},
     "output_type": "execute_result"
    }
   ],
   "source": [
    "ord('1')"
   ]
  },
  {
   "cell_type": "markdown",
   "id": "03ac0198",
   "metadata": {},
   "source": [
    "## 81. Solution: implement a hash table\n",
    "\n",
    "$$\n",
    "f(x)=ax^2+bx+c\\\\\n",
    "g(x)=Ax^4\n",
    "$$"
   ]
  },
  {
   "cell_type": "markdown",
   "id": "63800c75",
   "metadata": {},
   "source": [
    "## 82. Keys()"
   ]
  },
  {
   "cell_type": "markdown",
   "id": "c04315bf",
   "metadata": {},
   "source": [
    "## 83. Extra: keys() without collision"
   ]
  },
  {
   "cell_type": "markdown",
   "id": "b49970c7",
   "metadata": {},
   "source": [
    "## 84. Hash tables vs arrays"
   ]
  },
  {
   "cell_type": "markdown",
   "id": "821bb7df",
   "metadata": {},
   "source": [
    "## 85. Exercise: First recurring character"
   ]
  },
  {
   "cell_type": "markdown",
   "id": "ff46fa2c",
   "metadata": {},
   "source": [
    "## 86. Solution: First recurring character"
   ]
  },
  {
   "cell_type": "markdown",
   "id": "cb5dff8d",
   "metadata": {},
   "source": [
    "## 87. Interesting Tidfbit: python dictionaries"
   ]
  },
  {
   "cell_type": "markdown",
   "id": "9ea26b68",
   "metadata": {},
   "source": [
    "## 88. Hash tables review"
   ]
  }
 ],
 "metadata": {
  "kernelspec": {
   "display_name": "Python 3 (ipykernel)",
   "language": "python",
   "name": "python3"
  },
  "language_info": {
   "codemirror_mode": {
    "name": "ipython",
    "version": 3
   },
   "file_extension": ".py",
   "mimetype": "text/x-python",
   "name": "python",
   "nbconvert_exporter": "python",
   "pygments_lexer": "ipython3",
   "version": "3.9.12"
  }
 },
 "nbformat": 4,
 "nbformat_minor": 5
}
