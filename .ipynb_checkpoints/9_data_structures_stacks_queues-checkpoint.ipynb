{
 "cells": [
  {
   "cell_type": "markdown",
   "id": "7cadd471",
   "metadata": {},
   "source": [
    "## 110. stacks + queues introduction"
   ]
  },
  {
   "cell_type": "markdown",
   "id": "46d72edd",
   "metadata": {},
   "source": [
    "* queues are the most confusing spelling of all time.\n",
    "* both data structures called linear data structures allowing us to trsverse to go through one by one.\n",
    "* they can be implemented in similar ways.\n",
    "* the main difference is only how items get removed from this data structure.\n",
    "* There is no ramdom access operation unlike array.\n",
    "* ex) push, peak, pop\n",
    "* we only can access the first and last element of the data structures.\n",
    "* we can build things like stacks and qs, which using arrays or linked lists.\n",
    "* having this limited ability on a data structure is an advantage because you can control that."
   ]
  },
  {
   "cell_type": "markdown",
   "id": "b5a80db9",
   "metadata": {},
   "source": [
    "## 111. stacks"
   ]
  },
  {
   "cell_type": "markdown",
   "id": "273a777d",
   "metadata": {},
   "source": [
    "* we can think of stacks as plates.\n",
    "* we can only touch the top plate\n",
    "* LIFO: last in, first out\n",
    "\n",
    "advantages:\n",
    "* when we need to know the very last value that was seen or added.\n",
    "\n",
    "examples:\n",
    "1. when you go back and forth from one website to another.\n",
    "2. undo option to go back and forward to redo.\n",
    "\n",
    "method:\n",
    "* lookup O(n)\n",
    "* pop O(1) -> main remove the last one.\n",
    "* push O(1) -> main add the plate.\n",
    "* peek O(1) -> view the top plate."
   ]
  },
  {
   "cell_type": "markdown",
   "id": "db2b2c50",
   "metadata": {},
   "source": [
    "## 112. queues"
   ]
  },
  {
   "cell_type": "markdown",
   "id": "d0b44c66",
   "metadata": {},
   "source": [
    "* it is like entrance to rollercoaster.\n",
    "* the first person that arrives in line gets to go first on the roller coaster, and then the second person.\n",
    "* FIFO\n",
    "* used a lot\n",
    "\n",
    "For examples: \n",
    "* waitlist app to perhaps buy tickets for a concert that uses queues.\n",
    "* a restaurant app where you check into the restaurant to see if you can get a table that uses.\n",
    "* uber and lyft: the person requests the ride first will get priority and then you'll get second.\n",
    "* the most common example of queues : a printer.\n",
    "\n",
    "method:\n",
    "* lookup O(n)\n",
    "* enqueue O(1) -> add to the queue\n",
    "* dequeue O(1) -> remove the first one.\n",
    "* peek O(1) -> what's the first item that's going to come out\n",
    "\n",
    "* pop O(1) -> main remove the last one.\n",
    "* push O(1) -> main add the plate.\n",
    "* peek O(1) -> view the top plate.\n",
    "\n",
    "### why would you not want to use an array to build a queue?\n",
    "it's very inefficient. in order to remove the first item, we need to shift all element."
   ]
  },
  {
   "cell_type": "markdown",
   "id": "1e9dad02",
   "metadata": {},
   "source": [
    "## 113. Exercise: stacks vs queues"
   ]
  },
  {
   "cell_type": "markdown",
   "id": "225819a0",
   "metadata": {},
   "source": [
    "* Why would we want to build stacks with arrays(linked lists)?\n",
    "* Which one do you think it would be better for queues: arrays or linked lists?"
   ]
  },
  {
   "cell_type": "markdown",
   "id": "92ae47eb",
   "metadata": {},
   "source": [
    "## 114. Solution: stacks vs queues"
   ]
  },
  {
   "cell_type": "markdown",
   "id": "00251802",
   "metadata": {},
   "source": [
    "### Stacks\n",
    "* both arrays and linked lists work well.\n",
    "* arrays allow something called cache locality, which make thems them technically faster when accessing its item in memory because they are right next to each other.\n",
    "* linked lists that has them scattered all over memory\n",
    "\n",
    "### queues\n",
    "* it is not a good idead to build queues with arrays.\n"
   ]
  },
  {
   "cell_type": "markdown",
   "id": "24976e72",
   "metadata": {},
   "source": [
    "## 115. Quick note: upcoming video"
   ]
  },
  {
   "cell_type": "markdown",
   "id": "c812c314",
   "metadata": {},
   "source": [
    "* explain the difference between asynchronous and synchrounous in JS.\n",
    "* JS is a single threaded language that can be non blocking  \n",
    "\n",
    "### what is a program?\n",
    "* allocate memory\n",
    "* parse and execute\n",
    "\n",
    "* memory leak\n"
   ]
  },
  {
   "cell_type": "markdown",
   "id": "d2a365e9",
   "metadata": {},
   "source": [
    "## 116. Optional: how javascript works"
   ]
  },
  {
   "cell_type": "markdown",
   "id": "92f590b1",
   "metadata": {},
   "source": [
    "watch it again later."
   ]
  },
  {
   "cell_type": "markdown",
   "id": "55e23542",
   "metadata": {},
   "source": [
    "## 117. Exercise: stack implementation (linked lists)"
   ]
  },
  {
   "cell_type": "code",
   "execution_count": 3,
   "id": "ef5955af",
   "metadata": {},
   "outputs": [
    {
     "name": "stdout",
     "output_type": "stream",
     "text": [
      "None\n"
     ]
    }
   ],
   "source": [
    "class Node:\n",
    "    def __init__(self, value):\n",
    "        self.value = value\n",
    "        self.next = None\n",
    "        \n",
    "\n",
    "class Stack:\n",
    "    def __init__(self):\n",
    "        self.top = None\n",
    "        self.bottom = None\n",
    "        self.length = 0\n",
    "        \n",
    "    def peek(self):\n",
    "        return self.top\n",
    "    \n",
    "    def push(self, value):\n",
    "        if self.bottom == None:\n",
    "            self.bottom = Node\n",
    "            self.length += 1\n",
    "            \n",
    "        else:\n",
    "            for i in range(self.length):\n",
    "                new_node = self.bottom\n",
    "                new_node = new_node.next\n",
    "    \n",
    "    def pop(self):\n",
    "        pass\n",
    "    \n",
    "my_stack = Stack()\n",
    "print(my_stack.peek())\n",
    "        \n"
   ]
  },
  {
   "cell_type": "markdown",
   "id": "7b841c37",
   "metadata": {},
   "source": [
    "## 118. Solution: stack implementation (linked lists)"
   ]
  },
  {
   "cell_type": "code",
   "execution_count": 53,
   "id": "bae9c629",
   "metadata": {},
   "outputs": [
    {
     "name": "stdout",
     "output_type": "stream",
     "text": [
      "<__main__.Stack object at 0x107b1f310>\n"
     ]
    }
   ],
   "source": [
    "class Node:\n",
    "    def __init__(self, value):\n",
    "        self.value = value\n",
    "        self.next = None\n",
    "        \n",
    "\n",
    "class Stack:\n",
    "    def __init__(self):\n",
    "        self.top = None\n",
    "        self.bottom = None\n",
    "        self.length = 0\n",
    "        \n",
    "    def peek(self):\n",
    "        return self.top.__dict__\n",
    "    \n",
    "    def push(self, value):\n",
    "        new_node = Node(value)\n",
    "        if self.length == 0:\n",
    "            self.top = new_node\n",
    "            self.bottom = new_node\n",
    "        else:\n",
    "            holding_pointer = self.top\n",
    "            self.top = new_node\n",
    "            self.top.next = holding_pointer\n",
    "            \n",
    "        self.length += 1\n",
    "        \n",
    "        return self\n",
    "        \n",
    "    \n",
    "    def pop(self):\n",
    "        if self.length == 0:\n",
    "            return self\n",
    "        \n",
    "        if self.top == self.bottom:\n",
    "            self.bottom == None\n",
    "        else:\n",
    "            holding_pointer = self.top  \n",
    "            # because of the JS is the garbage collector, if we didn't do this,\n",
    "            # it will get removed automatically from the memory during garbage collection.\n",
    "            self.top = self.top.next  # underneath of the top\n",
    "            self.length -= 1\n",
    "            \n",
    "        return self\n",
    "    \n",
    "    \n",
    "my_stack = Stack()\n",
    "my_stack.push('google')\n",
    "my_stack.push('udemy')\n",
    "my_stack.push('discord')\n",
    "my_stack.peek()\n",
    "my_stack.pop()\n",
    "my_stack.pop()\n"
   ]
  },
  {
   "cell_type": "markdown",
   "id": "0d5f2881",
   "metadata": {},
   "source": [
    "## 119 Exercise: stack implementation (array)"
   ]
  },
  {
   "cell_type": "code",
   "execution_count": null,
   "id": "33f38a28",
   "metadata": {},
   "outputs": [],
   "source": [
    "class Stack:\n",
    "    def __init__(self):\n",
    "        self.array = []\n",
    "#         self.length = 0\n",
    "        \n",
    "    def peek(self):\n",
    "        return self.stack[-1]\n",
    "    \n",
    "    def push(self, value):\n",
    "        self.stack.append(value)\n",
    "        self.length += 1\n",
    "        \n",
    "        return self\n",
    "        \n",
    "    \n",
    "    def pop(self):\n",
    "        if self.length == 0:\n",
    "            return self\n",
    "        \n",
    "        if self.top == self.bottom:\n",
    "            self.bottom == None\n",
    "        else:\n",
    "            holding_pointer = self.top  \n",
    "            # because of the JS is the garbage collector, if we didn't do this,\n",
    "            # it will get removed automatically from the memory during garbage collection.\n",
    "            self.top = self.top.next  # underneath of the top\n",
    "            self.length -= 1\n",
    "            \n",
    "        return self\n",
    "    \n",
    "    \n",
    "my_stack = Stack()\n",
    "my_stack.push('google')\n",
    "my_stack.push('udemy')\n",
    "my_stack.push('discord')\n",
    "my_stack.peek()\n",
    "my_stack.pop()\n",
    "my_stack.pop()\n"
   ]
  },
  {
   "cell_type": "markdown",
   "id": "4c38970c",
   "metadata": {},
   "source": [
    "## 120. Solution: stack implementation (array)"
   ]
  },
  {
   "cell_type": "code",
   "execution_count": 67,
   "id": "66e9b3cb",
   "metadata": {},
   "outputs": [
    {
     "data": {
      "text/plain": [
       "['google']"
      ]
     },
     "execution_count": 67,
     "metadata": {},
     "output_type": "execute_result"
    }
   ],
   "source": [
    "class Stack:\n",
    "    def __init__(self):\n",
    "        self.array = []\n",
    "#         self.length = 0  we don't need this b.c. built-in method in array\n",
    "        \n",
    "    def peek(self):\n",
    "        return self.stack[len(self.array)-1]\n",
    "    \n",
    "    def push(self, value):\n",
    "        self.array.append(value)      \n",
    "        return self.array\n",
    "        \n",
    "    \n",
    "    def pop(self):\n",
    "        self.array.pop()\n",
    "        return self.array\n",
    "    \n",
    "    \n",
    "my_stack = Stack()\n",
    "my_stack.push('google')\n",
    "my_stack.push('udemy')\n",
    "my_stack.push('discord')\n",
    "# my_stack.peek()\n",
    "my_stack.pop()\n",
    "my_stack.pop()\n"
   ]
  },
  {
   "cell_type": "markdown",
   "id": "49dfa4fa",
   "metadata": {},
   "source": [
    "## 121. Exercise: queue implementation"
   ]
  },
  {
   "cell_type": "code",
   "execution_count": null,
   "id": "d8b33f7f",
   "metadata": {},
   "outputs": [],
   "source": [
    "class Node:\n",
    "    def __init__(self):\n",
    "        "
   ]
  },
  {
   "cell_type": "markdown",
   "id": "32f9240e",
   "metadata": {},
   "source": [
    "## 122. Solution: queue implementation"
   ]
  },
  {
   "cell_type": "markdown",
   "id": "ab43190a",
   "metadata": {},
   "source": []
  },
  {
   "cell_type": "markdown",
   "id": "5161f6f9",
   "metadata": {},
   "source": [
    "## 123. queues using stacks"
   ]
  },
  {
   "cell_type": "markdown",
   "id": "532be1df",
   "metadata": {},
   "source": []
  },
  {
   "cell_type": "markdown",
   "id": "eebb0111",
   "metadata": {},
   "source": [
    "## 124. stacks + queues review"
   ]
  },
  {
   "cell_type": "markdown",
   "id": "89675987",
   "metadata": {},
   "source": []
  }
 ],
 "metadata": {
  "kernelspec": {
   "display_name": "Python 3 (ipykernel)",
   "language": "python",
   "name": "python3"
  },
  "language_info": {
   "codemirror_mode": {
    "name": "ipython",
    "version": 3
   },
   "file_extension": ".py",
   "mimetype": "text/x-python",
   "name": "python",
   "nbconvert_exporter": "python",
   "pygments_lexer": "ipython3",
   "version": "3.9.12"
  }
 },
 "nbformat": 4,
 "nbformat_minor": 5
}
