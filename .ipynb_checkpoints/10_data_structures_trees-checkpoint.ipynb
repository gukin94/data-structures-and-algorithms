{
 "cells": [
  {
   "cell_type": "markdown",
   "id": "bb4da1aa",
   "metadata": {},
   "source": [
    "## 125. Tree introduction\n",
    "* 트리는 계층적 구조를 가지고 있는 자료구조(data structures)\n",
    "* 언제나 하나의 root로 부터 시작하여, 뒤집혀진(inversed)트리 형태\n",
    "* child는 하나의 parent로 부터 하강(descent)하는 특징을 가지고 있다.\n",
    "* parent-child 관계와 leaf을 가지고 있으며, sub-tree를 가질 수 있다.\n",
    "\n",
    "### examples\n",
    "* 웹사이트의 html코드는 계층적 구조를 가진다.\n",
    "* facebook의 comment는 계층적 구조를 가진다.\n",
    "* machine learning의 decision tree\n",
    "\n",
    "### abstract syntax tree(AST; 추상 구문 트리)\n",
    "* linked list도 트리 구조를 가진다."
   ]
  },
  {
   "cell_type": "markdown",
   "id": "28032854",
   "metadata": {},
   "source": [
    "## 126. Binary trees\n",
    "* each nodes can only have either 0, 1, 2 node\n",
    "* each child can only have 1 parent."
   ]
  },
  {
   "cell_type": "code",
   "execution_count": 1,
   "id": "8493eb64",
   "metadata": {},
   "outputs": [],
   "source": [
    "class BinaryTreeNode:\n",
    "    def __init__(self, value):\n",
    "        self.value = value\n",
    "        self.left = None\n",
    "        self.right = None"
   ]
  },
  {
   "cell_type": "markdown",
   "id": "1483d0ef",
   "metadata": {},
   "source": [
    "### perfect Binary tree Vs. Full binary tree\n",
    "![](https://miro.medium.com/max/1400/1*CMGFtehu01ZEBgzHG71sMg.png)\n",
    "reference to https://towardsdatascience.com/5-types-of-binary-tree-with-cool-illustrations-9b335c430254  \n",
    "\n",
    "#### Perfect binary tree\n",
    "* perfect binary tree is efficient.\n",
    "* doubling every time.\n",
    "* 절반이상의 node가 바닥에 존재한다.\n",
    "\n",
    "### big O notation\n",
    "* lookup -> O(log N)\n",
    "* insert -> O(log N)\n",
    "* delete -> O(log N)"
   ]
  },
  {
   "cell_type": "markdown",
   "id": "8d804657",
   "metadata": {},
   "source": [
    "## 127. O(log N)"
   ]
  },
  {
   "cell_type": "markdown",
   "id": "2895976a",
   "metadata": {},
   "source": [
    "Level 0: 2^0 = 1\n",
    "Level 1: 2^1 = 2\n",
    "Level 2: 2^2 = 4\n",
    "Level 3: 2^3 = 8  \n",
    "\n",
    "#of nodes = 2^h-1\n",
    "log nodes = height\n",
    "\n",
    "log 100 = 2\n",
    "10^2(height) = 100(nodes)\n",
    "\n",
    "-1 is insignificant so that we can ignore it."
   ]
  },
  {
   "cell_type": "code",
   "execution_count": null,
   "id": "aae2b3e0",
   "metadata": {},
   "outputs": [],
   "source": []
  }
 ],
 "metadata": {
  "kernelspec": {
   "display_name": "Python 3 (ipykernel)",
   "language": "python",
   "name": "python3"
  },
  "language_info": {
   "codemirror_mode": {
    "name": "ipython",
    "version": 3
   },
   "file_extension": ".py",
   "mimetype": "text/x-python",
   "name": "python",
   "nbconvert_exporter": "python",
   "pygments_lexer": "ipython3",
   "version": "3.9.12"
  }
 },
 "nbformat": 4,
 "nbformat_minor": 5
}
