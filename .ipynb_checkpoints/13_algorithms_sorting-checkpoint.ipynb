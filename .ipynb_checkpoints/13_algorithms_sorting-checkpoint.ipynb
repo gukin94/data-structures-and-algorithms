{
 "cells": [
  {
   "cell_type": "markdown",
   "id": "5816da7c",
   "metadata": {},
   "source": [
    "## 164. Sorting introduction\n",
    "* in an interview, sorting is really important.\n",
    "\n",
    "### what's all the fuss with sorting?\n",
    "with small data, it is not important."
   ]
  },
  {
   "cell_type": "code",
   "execution_count": 6,
   "id": "77aec0ed",
   "metadata": {},
   "outputs": [
    {
     "name": "stdout",
     "output_type": "stream",
     "text": [
      "['a', 'b', 'd', 'e', 'r', 'z']\n"
     ]
    }
   ],
   "source": [
    "letters = ['a', 'd', 'z', 'e', 'r', 'b']\n",
    "sorted_letters = sorted(letters)\n",
    "print(sorted_letters)"
   ]
  },
  {
   "cell_type": "markdown",
   "id": "3d079d5c",
   "metadata": {},
   "source": [
    "* we don't care about small inputs because that's easy to do.\n",
    "* It starts costing companies a lot of money when we have to perform operations on larger and larger data.\n",
    "* ex) google has a ton of websites that are indexed. (sorted based on date), Amazon and apple.\n",
    "* they usually need costomed sorting methods.\n",
    "\n",
    "we gonna talk about\n",
    "* bubble sort\n",
    "* insertion sort\n",
    "* selection sort\n",
    "* merge sort\n",
    "* quick sort"
   ]
  },
  {
   "cell_type": "markdown",
   "id": "9028e2c9",
   "metadata": {},
   "source": [
    "## 165. The issue with `sort()`"
   ]
  },
  {
   "cell_type": "code",
   "execution_count": 5,
   "id": "bc2c9373",
   "metadata": {},
   "outputs": [
    {
     "name": "stdout",
     "output_type": "stream",
     "text": [
      "None\n"
     ]
    }
   ],
   "source": [
    "letters = ['a', 'd', 'z', 'e', 'r', 'b']\n",
    "basket = [2, 65, 34, 2, 1, 7, 8]\n",
    "sorted_basket = sorted(basket)\n",
    "print(basket.sort())\n",
    "# print(sorted_basket)"
   ]
  },
  {
   "cell_type": "markdown",
   "id": "b34e1ebc",
   "metadata": {},
   "source": [
    "first, it turn into string (uni-code). and sorting the words based on the uni-code number. It can be confusing.\n",
    "therefore, it is recommended to read document, for example sort()\n"
   ]
  }
 ],
 "metadata": {
  "kernelspec": {
   "display_name": "Python 3 (ipykernel)",
   "language": "python",
   "name": "python3"
  },
  "language_info": {
   "codemirror_mode": {
    "name": "ipython",
    "version": 3
   },
   "file_extension": ".py",
   "mimetype": "text/x-python",
   "name": "python",
   "nbconvert_exporter": "python",
   "pygments_lexer": "ipython3",
   "version": "3.9.12"
  }
 },
 "nbformat": 4,
 "nbformat_minor": 5
}
