{
 "cells": [
  {
   "cell_type": "markdown",
   "id": "c62c2eaf",
   "metadata": {},
   "source": [
    "## 76. Hash tables introduction"
   ]
  },
  {
   "cell_type": "markdown",
   "id": "93d91180",
   "metadata": {},
   "source": [
    " * There are many ways to call hash table in different language.\n",
    " * Arrays and Hash table are the most common coding questions.\n",
    " * In Python, it's called dictionary.\n",
    " * What does the name of hash tables come from?\n",
    " * key, value pair `basket.grapes = 10000`\n",
    " \n",
    " Hash Tables\n",
    " key \"grapes\"\n",
    " key is used as the index where to find the value in the memory shelf."
   ]
  },
  {
   "cell_type": "markdown",
   "id": "6ae19e52",
   "metadata": {},
   "source": [
    "## 77. Hash function\n",
    "function that generates a value of fixed length for input that it gets.\n",
    "\n",
    "md5 is the type of hash function -> http://www.miraclesalad.com/webtools/md5.php\n",
    "\n",
    "![md5-hash-generator](./img/md5-hash-generator.png)  \n",
    "we have no clues what the input is.\n",
    "\n",
    "### idempotent\n",
    "it is the fancy way to say the function that given the input always output is the same output.  \n",
    "advantage: really fast access to the memory.  \n",
    "every language has its own hashing function that is optimal in terms of speed of accessing to the memory address."
   ]
  },
  {
   "cell_type": "markdown",
   "id": "693f6fbd",
   "metadata": {},
   "source": [
    "## 78. Hash collisions\n",
    "\n",
    "### Hash Tables\n",
    "\n",
    "it is address bases. simply use the key and right away we can operate anything.\n",
    "* insert O(1)\n",
    "* lookup O(1)\n",
    "* delete O(1)\n",
    "* search O(1)"
   ]
  },
  {
   "cell_type": "code",
   "execution_count": 18,
   "id": "0f2ea8bf",
   "metadata": {},
   "outputs": [
    {
     "name": "stdout",
     "output_type": "stream",
     "text": [
      "ahhhh!\n"
     ]
    }
   ],
   "source": [
    "def scream():\n",
    "    print(\"ahhhh!\")\n",
    "\n",
    "user = {\n",
    "    \"age\": 54,\n",
    "    \"name\": \"kylie\",\n",
    "    \"magic\": True,\n",
    "    \"scream\": scream\n",
    "}\n",
    "\n",
    "user['age'] # O(1)\n",
    "user['spell'] = \"abra kadabra\" # O(1)\n",
    "user[\"scream\"]()"
   ]
  },
  {
   "cell_type": "markdown",
   "id": "38f5439e",
   "metadata": {},
   "source": [
    "### Main problem with Hash tables\n",
    "it's going to allocate the memory(size)\n",
    "해시 충돌: 서로 다른 두개의 입력값에 대해 동일한 출력값을 내는 상황을 의미.\n",
    "\n",
    "![](https://upload.wikimedia.org/wikipedia/commons/thumb/5/58/Hash_table_4_1_1_0_0_1_0_LL.svg/254px-Hash_table_4_1_1_0_0_1_0_LL.svg.png)  \n",
    "\n",
    "it slows down our ability to be fast. -> O(n/k) -> O(n) where k is the size of your hash table. \n",
    "\n",
    "### 2 ways of solutions\n",
    "1. linked list\n",
    "2. sperate chainning."
   ]
  },
  {
   "cell_type": "markdown",
   "id": "9afe8445",
   "metadata": {},
   "source": [
    "## 79. Hash tables in different languages\n",
    "`map`  \n",
    "`set` it only stores keys\n",
    "\n",
    "both of them are hash tables."
   ]
  },
  {
   "cell_type": "markdown",
   "id": "0b351f44",
   "metadata": {},
   "source": [
    "## 80. Exercise: implement a hash table\n",
    " underscore means that private properties in JS."
   ]
  },
  {
   "cell_type": "code",
   "execution_count": 15,
   "id": "79482b1e",
   "metadata": {},
   "outputs": [
    {
     "name": "stdout",
     "output_type": "stream",
     "text": [
      "[['apples', 54]]\n",
      "54\n"
     ]
    },
    {
     "data": {
      "text/plain": [
       "['grapes', 'apples', 'oranges']"
      ]
     },
     "execution_count": 15,
     "metadata": {},
     "output_type": "execute_result"
    }
   ],
   "source": [
    "class HashTable:\n",
    "    def __init__(self, size):\n",
    "        self.size = size\n",
    "        self.data = [None] * self.size\n",
    "        \n",
    "    def _hash(self, key):\n",
    "        hash = 0\n",
    "        for i in range(len(key)):\n",
    "            hash = (hash +ord(key[i])*i) % self.size\n",
    "        return hash\n",
    "        \n",
    "    def set(self, key, value):\n",
    "        address = self._hash(key)\n",
    "        if self.data[address] == None:\n",
    "            self.data[address] = []\n",
    "        self.data[address].append([key, value])  # O(1)\n",
    "        \n",
    "    def get(self, key):\n",
    "        address = self._hash(key)\n",
    "        current_bucket = self.data[address]\n",
    "        print(current_bucket)\n",
    "        if len(current_bucket) > 0:\n",
    "            for i in range(len(current_bucket)):  # O(n) --> O(1)\n",
    "                if current_bucket[i][0] == key:  # if it's match with key\n",
    "                    return current_bucket[i][1]  # then return the key-matched value\n",
    "        return\n",
    "    \n",
    "    def keys(self):\n",
    "        keys_array = []\n",
    "        for i in range(len(self.data)):\n",
    "            if self.data[i] != None:\n",
    "                keys_array.append(self.data[i][0][0])\n",
    "        return keys_array\n",
    "            \n",
    "\n",
    "                           \n",
    "        \n",
    "my_hash_table = HashTable(50)  # with 2 memory hash table is not good.\n",
    "my_hash_table.set('grapes', 10000)\n",
    "my_hash_table.set('apples', 54)\n",
    "my_hash_table.set('oranges', 2)\n",
    "print(my_hash_table.get('apples'))\n",
    "my_hash_table.keys()"
   ]
  },
  {
   "cell_type": "markdown",
   "id": "fb4700df",
   "metadata": {},
   "source": [
    "we had to loop over the size of "
   ]
  },
  {
   "cell_type": "markdown",
   "id": "03ac0198",
   "metadata": {},
   "source": [
    "## 81. Solution: implement a hash table\n",
    "\n",
    "$$\n",
    "f(x)=ax^2+bx+c\\\\\n",
    "g(x)=Ax^4\n",
    "$$"
   ]
  },
  {
   "cell_type": "markdown",
   "id": "63800c75",
   "metadata": {},
   "source": [
    "## 82. Keys()\n"
   ]
  },
  {
   "cell_type": "markdown",
   "id": "c04315bf",
   "metadata": {},
   "source": [
    "## 83. Extra: keys() without collision\n",
    "```javascript\n",
    "keys() {\n",
    "    if (!this.data.length) {\n",
    "      return undefined\n",
    "    }\n",
    "    let result = []\n",
    "    // loop through all the elements\n",
    "    for (let i = 0; i < this.data.length; i++) {\n",
    "        // if it's not an empty memory cell\n",
    "        if (this.data[i] && this.data[i].length) {\n",
    "          // but also loop through all the potential collisions\n",
    "          if (this.data.length > 1) {\n",
    "            for (let j = 0; j < this.data[i].length; j++) {\n",
    "              result.push(this.data[i][j][0])\n",
    "            }\n",
    "          } else {\n",
    "            result.push(this.data[i][0])\n",
    "          } \n",
    "        }\n",
    "    }\n",
    "    return result; \n",
    "  }\n",
    "  ```"
   ]
  },
  {
   "cell_type": "markdown",
   "id": "b49970c7",
   "metadata": {},
   "source": [
    "## 84. Hash tables vs arrays"
   ]
  },
  {
   "cell_type": "markdown",
   "id": "821bb7df",
   "metadata": {},
   "source": [
    "## 85. Exercise: First recurring character"
   ]
  },
  {
   "cell_type": "code",
   "execution_count": 36,
   "id": "8653ae75",
   "metadata": {},
   "outputs": [
    {
     "name": "stdout",
     "output_type": "stream",
     "text": [
      "2\n",
      "2\n",
      "[None, 2, None, None, None]\n",
      "[None, 2, None, None, 5]\n",
      "[1, 2, None, None, 5]\n",
      "2\n"
     ]
    }
   ],
   "source": [
    "# Google question\n",
    "# Given an array = [2, 5, 1, 2, 3, 5, 1, 2, 4]\n",
    "# It should return 2\n",
    "\n",
    "# Given an array = [2, 1, 1, 2, 3, 5, 1, 2, 4]\n",
    "# It should return 1\n",
    "\n",
    "# Given an array = [2, 3, 4, 5]\n",
    "# It should return undefined \n",
    "\n",
    "array = [2, 5, 1, 2, 3, 5, 1, 2, 4]\n",
    "# need_to_checked_array = [array[0]]\n",
    "\n",
    "# naive approach: nested for loop\n",
    "def find_recurring_num1(array):\n",
    "    length_array = len(array)\n",
    "    for i in range(length_array):\n",
    "        for j in range(i+1, length_array):\n",
    "            if array[i] == array[j]:\n",
    "                return array[i]\n",
    "print(find_recurring_num1(array))\n",
    "        \n",
    "\n",
    "# Have I seen before method:\n",
    "def find_recurring_num2(array):\n",
    "    need_to_checked_array = []\n",
    "    for num in array:\n",
    "        for num2 in need_to_checked_array:\n",
    "            if num == num2:\n",
    "                return num\n",
    "        need_to_checked_array.append(num)\n",
    "        \n",
    "print(find_recurring_num2(array))"
   ]
  },
  {
   "cell_type": "markdown",
   "id": "ff46fa2c",
   "metadata": {},
   "source": [
    "## 86. Solution: First recurring character"
   ]
  },
  {
   "cell_type": "code",
   "execution_count": null,
   "id": "f4dbe460",
   "metadata": {},
   "outputs": [],
   "source": [
    "# using hash tables\n",
    "def find_recurring_num3(array):\n",
    "    size_array = max(array) # O(n)\n",
    "    hash_ = [None]*size_array\n",
    "    for num in array:  # O(n)\n",
    "        address = num - 1\n",
    "        if hash_[address] == None:\n",
    "            hash_[address] = num\n",
    "            print(hash_)\n",
    "        else:\n",
    "            return hash_[address]\n",
    "    \n",
    "print(find_recurring_num3(array))"
   ]
  },
  {
   "cell_type": "markdown",
   "id": "cb5dff8d",
   "metadata": {},
   "source": [
    "## 87. Interesting Tidfbit: python dictionaries\n",
    "\n",
    "https://softwaremaniacs.org/blog/2020/02/05/dicts-ordered/en/"
   ]
  },
  {
   "cell_type": "markdown",
   "id": "9ea26b68",
   "metadata": {},
   "source": [
    "## 88. Hash tables review\n",
    "The most common coding interview questions.\n",
    "\n",
    "### Pros\n",
    "* Fast lookups * Good collision resolution needed\n",
    "* Fast inserts\n",
    "* Flexiable keys (ex, def, int, str, list, dict)\n",
    "\n",
    "### Cons\n",
    "* Unordered\n",
    "* Slow key interation"
   ]
  },
  {
   "cell_type": "code",
   "execution_count": null,
   "id": "942a9df7",
   "metadata": {},
   "outputs": [],
   "source": []
  }
 ],
 "metadata": {
  "kernelspec": {
   "display_name": "Python 3 (ipykernel)",
   "language": "python",
   "name": "python3"
  },
  "language_info": {
   "codemirror_mode": {
    "name": "ipython",
    "version": 3
   },
   "file_extension": ".py",
   "mimetype": "text/x-python",
   "name": "python",
   "nbconvert_exporter": "python",
   "pygments_lexer": "ipython3",
   "version": "3.9.12"
  }
 },
 "nbformat": 4,
 "nbformat_minor": 5
}
