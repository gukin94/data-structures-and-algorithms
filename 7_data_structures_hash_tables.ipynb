{
 "cells": [
  {
   "cell_type": "markdown",
   "id": "fcf43acd",
   "metadata": {},
   "source": [
    "## 76. Hash tables introduction"
   ]
  },
  {
   "cell_type": "markdown",
   "id": "38aac72d",
   "metadata": {},
   "source": [
    " * There are many ways to call hash table in different language.\n",
    " * Arrays and Hash table are the most common coding questions.\n",
    " * In Python, it's called dictionary.\n",
    " * What does the name of hash tables come from?\n",
    " * key, value pair `basket.grapes = 10000`\n",
    " \n",
    " Hash Tables\n",
    " key \"grapes\"\n",
    " key is used as the index where to find the value in the memory shelf."
   ]
  },
  {
   "cell_type": "markdown",
   "id": "7184505d",
   "metadata": {},
   "source": [
    "## 77. Hash function\n",
    "function that generates a value of fixed length for input that it gets.\n",
    "\n",
    "md5 is the type of hash function -> http://www.miraclesalad.com/webtools/md5.php\n",
    "\n",
    "![md5-hash-generator](./img/md5-hash-generator.PNG)\n",
    "\n",
    "we have no clues what the input is.\n",
    "\n",
    "### idempotent\n",
    "it is the fancy way to say the function that given the input always output is the same output.  \n",
    "advantage: really fast access to the memory.  \n",
    "every language has its own hashing function that is optimal in terms of speed of accessing to the memory address."
   ]
  },
  {
   "cell_type": "markdown",
   "id": "febcfedd",
   "metadata": {},
   "source": [
    "## 78. Hash collisions"
   ]
  },
  {
   "cell_type": "markdown",
   "id": "e2eebdca",
   "metadata": {},
   "source": [
    "## 79. Hash tables in different languages"
   ]
  },
  {
   "cell_type": "markdown",
   "id": "e5de2122",
   "metadata": {},
   "source": [
    "## 80. Exercise: implement a hash table"
   ]
  },
  {
   "cell_type": "markdown",
   "id": "47760e19",
   "metadata": {},
   "source": [
    "## 81. Solution: implement a hash table"
   ]
  },
  {
   "cell_type": "markdown",
   "id": "b90fbbfa",
   "metadata": {},
   "source": [
    "## 82. Keys()"
   ]
  },
  {
   "cell_type": "markdown",
   "id": "7acf3219",
   "metadata": {},
   "source": [
    "## 83. Extra: keys() without collision"
   ]
  },
  {
   "cell_type": "markdown",
   "id": "23c179c2",
   "metadata": {},
   "source": [
    "## 84. Hash tables vs arrays"
   ]
  },
  {
   "cell_type": "markdown",
   "id": "697761f6",
   "metadata": {},
   "source": [
    "## 85. Exercise: First recurring character"
   ]
  },
  {
   "cell_type": "markdown",
   "id": "07511f3c",
   "metadata": {},
   "source": [
    "## 86. Solution: First recurring character"
   ]
  },
  {
   "cell_type": "markdown",
   "id": "8da13aeb",
   "metadata": {},
   "source": [
    "## 87. Interesting Tidfbit: python dictionaries"
   ]
  },
  {
   "cell_type": "markdown",
   "id": "e289509f",
   "metadata": {},
   "source": [
    "## 88. Hash tables review"
   ]
  }
 ],
 "metadata": {
  "kernelspec": {
   "display_name": "Python 3 (ipykernel)",
   "language": "python",
   "name": "python3"
  },
  "language_info": {
   "codemirror_mode": {
    "name": "ipython",
    "version": 3
   },
   "file_extension": ".py",
   "mimetype": "text/x-python",
   "name": "python",
   "nbconvert_exporter": "python",
   "pygments_lexer": "ipython3",
   "version": "3.9.12"
  }
 },
 "nbformat": 4,
 "nbformat_minor": 5
}
