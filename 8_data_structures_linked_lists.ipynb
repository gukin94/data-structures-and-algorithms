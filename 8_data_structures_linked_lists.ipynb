{
 "cells": [
  {
   "cell_type": "markdown",
   "id": "1ec7fe7a",
   "metadata": {},
   "source": [
    "## 89. Link lists introduction\n",
    "* singly and doubly linked lists\n",
    "* dynamic array and static array (doubling up)\n",
    "* array has bad O(n) insert and deletion -> hash table\n",
    "* there is no order, colision -> how do we solve this problem?"
   ]
  },
  {
   "cell_type": "markdown",
   "id": "f6c0fe33",
   "metadata": {},
   "source": [
    "## 90. What is a linked list?\n",
    "\n",
    "* it's a list that has links.\n",
    "* notes have two elements: the value of the data you want to store. and pointer\n",
    "* head and tail(last note)."
   ]
  },
  {
   "cell_type": "code",
   "execution_count": null,
   "id": "b2535c70",
   "metadata": {},
   "outputs": [],
   "source": [
    "basket = ['apples', 'grapes', 'pears']\n",
    "linked list: apples -> grapes -> pears\n",
    "apples\n",
    "8947 ---> grapes\n",
    "          8742 ----> pears\n",
    "                     372 ----> null\n",
    "        "
   ]
  },
  {
   "cell_type": "markdown",
   "id": "cac4d4ca",
   "metadata": {},
   "source": [
    "JS doesn't come with a linked list.  \n",
    "but we can build one."
   ]
  },
  {
   "cell_type": "markdown",
   "id": "84211ed3",
   "metadata": {},
   "source": [
    "## 91. Exercise: Imposter syndrome\n",
    "It is this idea that you are not good enough."
   ]
  },
  {
   "cell_type": "markdown",
   "id": "22348178",
   "metadata": {},
   "source": [
    "## 92. Exercise: Why linked lists?\n",
    "play around with \"https://visualgo.net/en/list\""
   ]
  },
  {
   "cell_type": "markdown",
   "id": "96ebc7af",
   "metadata": {},
   "source": [
    "## 93. Solution: Why linked lists?\n",
    "only different between arrays and linked lists is that array has order.\n",
    "cashing system. "
   ]
  },
  {
   "cell_type": "markdown",
   "id": "4fb6885d",
   "metadata": {},
   "source": [
    "## 94. What is a pointer? \n",
    "It is a reference to another place in memory or another object or another node."
   ]
  },
  {
   "cell_type": "code",
   "execution_count": 8,
   "id": "5ae6a6ff",
   "metadata": {},
   "outputs": [
    {
     "name": "stdout",
     "output_type": "stream",
     "text": [
      "1 {'a': True}\n",
      "2 {'a': True}\n"
     ]
    }
   ],
   "source": [
    "obj1 = {'a': True}\n",
    "obj2 = obj1\n",
    "\n",
    "# pointing to the same location in the memory.\n",
    "\n",
    "print('1',obj1)\n",
    "del obj1\n",
    "print('2',obj2)  # still pointer to this locaiton in memory. garbage collected."
   ]
  },
  {
   "cell_type": "markdown",
   "id": "42682f39",
   "metadata": {},
   "source": [
    "## 95. Our first linked list"
   ]
  },
  {
   "cell_type": "code",
   "execution_count": null,
   "id": "e8ddecf1",
   "metadata": {},
   "outputs": [],
   "source": [
    "# 10 -> 5 -> 16\n",
    "my_linked_list = {\n",
    "    \"head\":{\n",
    "        'value':10,\n",
    "        'next': {\n",
    "            'value':5,\n",
    "            'next': {\n",
    "                'value': 16,\n",
    "                'next': None\n",
    "            }\n",
    "        },\n",
    "    }\n",
    "}"
   ]
  },
  {
   "cell_type": "code",
   "execution_count": 15,
   "id": "f18be82a",
   "metadata": {},
   "outputs": [
    {
     "name": "stdout",
     "output_type": "stream",
     "text": [
      "{'head': {'value': 10, 'next': None}, 'tail': {'value': 10, 'next': None}, 'length': 1}\n"
     ]
    }
   ],
   "source": [
    "class LinkedList:\n",
    "    def __init__(self, value):\n",
    "        self.head = {\n",
    "            \"value\": value,\n",
    "            \"next\": None\n",
    "        }\n",
    "        \n",
    "        self.tail = self.head\n",
    "        self.length = 1\n",
    "        \n",
    "my_linked_list = LinkedList(10)\n",
    "print(my_linked_list.__dict__)"
   ]
  },
  {
   "cell_type": "markdown",
   "id": "0e937724",
   "metadata": {},
   "source": [
    "## 96. Solution: `append()`"
   ]
  },
  {
   "cell_type": "code",
   "execution_count": 27,
   "id": "b075d8af",
   "metadata": {},
   "outputs": [
    {
     "name": "stdout",
     "output_type": "stream",
     "text": [
      "{'head': {'value': 10, 'next': {'value': 5, 'next': {'value': 16, 'next': None}}}, 'tail': {'value': 16, 'next': None}, 'length': 3}\n"
     ]
    }
   ],
   "source": [
    "# create method \"append\"\n",
    "\n",
    "class LinkedList:\n",
    "    def __init__(self, value):\n",
    "        self.head = {\n",
    "            \"value\": value,\n",
    "            \"next\": None\n",
    "        }\n",
    "        \n",
    "        self.tail = self.head\n",
    "        self.length = 1\n",
    "        \n",
    "    def append(self, value):\n",
    "        new_node = {\n",
    "            'value': value,\n",
    "            'next': None\n",
    "        }\n",
    "        self.tail['next'] = new_node\n",
    "        self.tail = new_node\n",
    "        self.length += 1\n",
    "        \n",
    "my_linked_list = LinkedList(10)\n",
    "my_linked_list.append(5)\n",
    "my_linked_list.append(16)\n",
    "print(my_linked_list.__dict__)"
   ]
  },
  {
   "cell_type": "markdown",
   "id": "1d0eb447",
   "metadata": {},
   "source": [
    "## 97. Solution: `prepend()` "
   ]
  },
  {
   "cell_type": "code",
   "execution_count": 44,
   "id": "37b55866",
   "metadata": {},
   "outputs": [
    {
     "name": "stdout",
     "output_type": "stream",
     "text": [
      "{'head': {'value': 1, 'next': {'value': 10, 'next': {'value': 5, 'next': {'value': 16, 'next': None}}}}, 'tail': {'value': 16, 'next': None}, 'length': 4}\n"
     ]
    }
   ],
   "source": [
    "# create method \"prepend\": adding to the beginning of the list.\n",
    "# 1 -> 10 -> 5 -> 16\n",
    "class LinkedList:\n",
    "    def __init__(self, value):\n",
    "        self.head = {\n",
    "            \"value\": value,\n",
    "            \"next\": None\n",
    "        }\n",
    "        \n",
    "        self.tail = self.head\n",
    "        self.length = 1\n",
    "        \n",
    "    def append(self, value):\n",
    "        new_node = {\n",
    "            'value': value,\n",
    "            'next': None\n",
    "        }\n",
    "        self.tail['next'] = new_node\n",
    "        self.tail = new_node\n",
    "        self.length += 1\n",
    "        \n",
    "    def prepend(self, value):\n",
    "        new_node = {\n",
    "            'value': value,\n",
    "            'next': None\n",
    "        }\n",
    "        new_node['next'] = self.head\n",
    "        self.head = new_head\n",
    "        self.length += 1\n",
    "        \n",
    "my_linked_list = LinkedList(10)\n",
    "my_linked_list.append(5)\n",
    "my_linked_list.append(16)\n",
    "my_linked_list.prepend(1)\n",
    "print(my_linked_list.__dict__)"
   ]
  },
  {
   "cell_type": "markdown",
   "id": "3cae97ad",
   "metadata": {},
   "source": [
    "## 98. Node class"
   ]
  },
  {
   "cell_type": "code",
   "execution_count": 55,
   "id": "b53a5a37",
   "metadata": {},
   "outputs": [
    {
     "name": "stdout",
     "output_type": "stream",
     "text": [
      "{'head': <__main__.Node object at 0x107490f70>, 'tail': <__main__.Node object at 0x1077cf700>, 'length': 4}\n"
     ]
    }
   ],
   "source": [
    "class Node:\n",
    "    def __init__(self, value):\n",
    "        self.value = value\n",
    "        self.next = None\n",
    "        \n",
    "        \n",
    "# create method \"prepend\": adding to the beginning of the list.\n",
    "# 1 -> 10 -> 5 -> 16\n",
    "class LinkedList:\n",
    "    def __init__(self, value):\n",
    "        self.head = Node(value)\n",
    "        self.tail = self.head\n",
    "        self.length = 1\n",
    "        \n",
    "    def append(self, value):\n",
    "        new_node = Node(value)\n",
    "        self.tail.next = new_node\n",
    "        self.tail = new_node\n",
    "        self.length += 1\n",
    "        \n",
    "    def prepend(self, value):\n",
    "        new_node = Node(value)\n",
    "        new_node.next = self.head\n",
    "        self.head = new_node\n",
    "        self.length += 1\n",
    "        \n",
    "my_linked_list = LinkedList(10)\n",
    "my_linked_list.append(5)\n",
    "my_linked_list.append(16)\n",
    "my_linked_list.prepend(1)\n",
    "print(my_linked_list.__dict__)"
   ]
  },
  {
   "cell_type": "markdown",
   "id": "1c4b8c43",
   "metadata": {},
   "source": [
    "## 99. `insert()`"
   ]
  },
  {
   "cell_type": "code",
   "execution_count": 6,
   "id": "fda92d72",
   "metadata": {},
   "outputs": [
    {
     "name": "stdout",
     "output_type": "stream",
     "text": [
      "1\n",
      "10\n",
      "99\n",
      "5\n",
      "16\n"
     ]
    },
    {
     "data": {
      "text/plain": [
       "[1, 10, 99, 5, 16]"
      ]
     },
     "execution_count": 6,
     "metadata": {},
     "output_type": "execute_result"
    }
   ],
   "source": [
    "# create method \"insert\": adding to the beginning of the list.\n",
    "# 1 -> 10 -> 99 -> 5 -> 16\n",
    "class LinkedList:\n",
    "    def __init__(self, value):\n",
    "        self.head = {\n",
    "            \"value\": value,\n",
    "            \"next\": None\n",
    "        }\n",
    "        \n",
    "        self.tail = self.head\n",
    "        self.length = 1\n",
    "        \n",
    "    def append(self, value):\n",
    "        new_node = {\n",
    "            'value': value,\n",
    "            'next': None\n",
    "        }\n",
    "        self.tail['next'] = new_node\n",
    "        self.tail = new_node\n",
    "        self.length += 1\n",
    "        \n",
    "    def prepend(self, value):\n",
    "        new_node = {\n",
    "            'value': value,\n",
    "            'next': None\n",
    "        }\n",
    "        new_node['next'] = self.head\n",
    "        self.head = new_node\n",
    "        self.length += 1\n",
    "        \n",
    "    def print_list(self):\n",
    "        array = []\n",
    "        current_node = self.head\n",
    "        while current_node['value'] != None:\n",
    "            print(current_node['value'])\n",
    "            array.append(current_node['value'])\n",
    "            current_node = current_node['next']\n",
    "            if current_node == None:\n",
    "                return array\n",
    "        \n",
    "    def insert(self, index, value):\n",
    "        new_node = {\n",
    "            'value': value,\n",
    "            'next': None\n",
    "        }\n",
    "        \n",
    "        current_node = self.head\n",
    "        for i in range(index):\n",
    "            current_node = current_node['next']\n",
    "        new_node['next'] = current_node\n",
    "        \n",
    "        while index != 0:\n",
    "            index -= 1\n",
    "            current_node = self.head\n",
    "            for i in range(index):\n",
    "                current_node = current_node['next']\n",
    "            current_node['next'] = new_node\n",
    "            new_node = current_node\n",
    "        self.head = new_node\n",
    "\n",
    "my_linked_list = LinkedList(10)\n",
    "my_linked_list.append(5)\n",
    "my_linked_list.append(16)\n",
    "my_linked_list.prepend(1)\n",
    "my_linked_list.insert(2, 99)\n",
    "my_linked_list.print_list()"
   ]
  },
  {
   "cell_type": "code",
   "execution_count": 98,
   "id": "4420e3a8",
   "metadata": {},
   "outputs": [
    {
     "data": {
      "text/plain": [
       "True"
      ]
     },
     "execution_count": 98,
     "metadata": {},
     "output_type": "execute_result"
    }
   ],
   "source": [
    "1 != None"
   ]
  },
  {
   "cell_type": "markdown",
   "id": "65163f02",
   "metadata": {},
   "source": [
    "## 100. Quick note: upcoming video"
   ]
  },
  {
   "cell_type": "markdown",
   "id": "57acb6a0",
   "metadata": {},
   "source": [
    "## 101. Solution: `insert()`"
   ]
  },
  {
   "cell_type": "markdown",
   "id": "9335a0af",
   "metadata": {},
   "source": [
    "## 102. Solution: `remove()`"
   ]
  },
  {
   "cell_type": "markdown",
   "id": "e5cce279",
   "metadata": {},
   "source": [
    "## 103. Doubly linked lists"
   ]
  },
  {
   "cell_type": "markdown",
   "id": "fb5dd3d9",
   "metadata": {},
   "source": [
    "## 104. Exercise: Doubly linked lists"
   ]
  },
  {
   "cell_type": "markdown",
   "id": "f862f13a",
   "metadata": {},
   "source": [
    "## 105. Solution: Doubly linked lists"
   ]
  },
  {
   "cell_type": "markdown",
   "id": "0ae55d12",
   "metadata": {},
   "source": [
    "## 106. Singly VS Doubly linked lists"
   ]
  },
  {
   "cell_type": "markdown",
   "id": "e635665f",
   "metadata": {},
   "source": [
    "## 107. Exercise: `reverse()`"
   ]
  },
  {
   "cell_type": "markdown",
   "id": "f746cbae",
   "metadata": {},
   "source": [
    "## 108. Solution: `reverse()`"
   ]
  },
  {
   "cell_type": "markdown",
   "id": "644bd935",
   "metadata": {},
   "source": [
    "## 109. Linked lists review"
   ]
  },
  {
   "cell_type": "code",
   "execution_count": null,
   "id": "570ae862",
   "metadata": {},
   "outputs": [],
   "source": []
  },
  {
   "cell_type": "code",
   "execution_count": null,
   "id": "7207db3c",
   "metadata": {},
   "outputs": [],
   "source": []
  },
  {
   "cell_type": "code",
   "execution_count": null,
   "id": "859ba84d",
   "metadata": {},
   "outputs": [],
   "source": []
  }
 ],
 "metadata": {
  "kernelspec": {
   "display_name": "Python 3 (ipykernel)",
   "language": "python",
   "name": "python3"
  },
  "language_info": {
   "codemirror_mode": {
    "name": "ipython",
    "version": 3
   },
   "file_extension": ".py",
   "mimetype": "text/x-python",
   "name": "python",
   "nbconvert_exporter": "python",
   "pygments_lexer": "ipython3",
   "version": "3.9.12"
  }
 },
 "nbformat": 4,
 "nbformat_minor": 5
}
