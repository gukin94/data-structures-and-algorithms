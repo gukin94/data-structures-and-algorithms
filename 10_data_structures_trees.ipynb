{
 "cells": [
  {
   "cell_type": "markdown",
   "id": "bb4da1aa",
   "metadata": {},
   "source": [
    "## 125. Tree introduction\n",
    "* 트리는 계층적 구조를 가지고 있는 자료구조(data structures)\n",
    "* 언제나 하나의 root로 부터 시작하여, 뒤집혀진(inversed)트리 형태\n",
    "* child는 하나의 parent로 부터 하강(descent)하는 특징을 가지고 있다.\n",
    "* parent-child 관계와 leaf을 가지고 있으며, sub-tree를 가질 수 있다.\n",
    "\n",
    "### examples\n",
    "* 웹사이트의 html코드는 계층적 구조를 가진다.\n",
    "* facebook의 comment는 계층적 구조를 가진다.\n",
    "* machine learning의 decision tree\n",
    "\n",
    "### abstract syntax tree(AST; 추상 구문 트리)\n",
    "* linked list도 트리 구조를 가진다."
   ]
  },
  {
   "cell_type": "markdown",
   "id": "28032854",
   "metadata": {},
   "source": [
    "## 126. Binary trees\n",
    "* each nodes can only have either 0, 1, 2 node\n",
    "* each child can only have 1 parent."
   ]
  },
  {
   "cell_type": "code",
   "execution_count": 1,
   "id": "8493eb64",
   "metadata": {},
   "outputs": [],
   "source": [
    "class BinaryTreeNode:\n",
    "    def __init__(self, value):\n",
    "        self.value = value\n",
    "        self.left = None\n",
    "        self.right = None"
   ]
  },
  {
   "cell_type": "markdown",
   "id": "1483d0ef",
   "metadata": {},
   "source": [
    "### perfect Binary tree Vs. Full binary tree\n",
    "![](https://miro.medium.com/max/1400/1*CMGFtehu01ZEBgzHG71sMg.png)\n",
    "reference to https://towardsdatascience.com/5-types-of-binary-tree-with-cool-illustrations-9b335c430254  \n",
    "\n",
    "#### Perfect binary tree\n",
    "* perfect binary tree is efficient.\n",
    "* doubling every time.\n",
    "* 절반이상의 node가 바닥에 존재한다.\n",
    "\n",
    "### big O notation\n",
    "* lookup -> O(log N)\n",
    "* insert -> O(log N)\n",
    "* delete -> O(log N)"
   ]
  },
  {
   "cell_type": "markdown",
   "id": "8d804657",
   "metadata": {},
   "source": [
    "## 127. O(log N)"
   ]
  },
  {
   "cell_type": "markdown",
   "id": "2895976a",
   "metadata": {},
   "source": [
    "Level 0: 2^0 = 1\n",
    "Level 1: 2^1 = 2\n",
    "Level 2: 2^2 = 4\n",
    "Level 3: 2^3 = 8  \n",
    "\n",
    "#of nodes = 2^h-1\n",
    "log nodes = height\n",
    "\n",
    "log 100 = 2\n",
    "10^2(height) = 100(nodes)\n",
    "\n",
    "-1 is insignificant so that we can ignore it.\n",
    "\n",
    "**divide and conquer**\n",
    "\n",
    "O(log N) is just like looking through phone book.\n"
   ]
  },
  {
   "cell_type": "markdown",
   "id": "671bd935",
   "metadata": {},
   "source": [
    "## 128. Binary search tree\n",
    "* it is really good at comparing(searching).\n",
    "* this data structure preserve the relationships.\n",
    "\n",
    "1. all child node in the tree to the right of the root node must be greater than the current node.\n",
    "2. node can only have upto 2 children.\n",
    "\n",
    "-> https://visualgo.net/en/bst?slide=1\n"
   ]
  },
  {
   "cell_type": "markdown",
   "id": "abde4f03",
   "metadata": {},
   "source": [
    "## 129. Balanced Vs. unbalanced BST\n",
    "\n",
    "### Balanced BST\n",
    "* lookup -> O(log N)\n",
    "* insert -> O(log N)\n",
    "* delete -> O(log N)\n",
    "\n",
    "### Unbalanced BST\n",
    "* lookup -> O(n)\n",
    "* insert -> O(n)\n",
    "* delete -> O(n)\n",
    "\n",
    "It had to loop through.\n",
    "\n",
    "#### why it is bad?"
   ]
  },
  {
   "cell_type": "markdown",
   "id": "1a1eac26",
   "metadata": {},
   "source": [
    "## 130. Pros and cons BST\n",
    "### The performance implications\n",
    "* It has really good performance across the board.\n",
    "\n",
    "#### Pros\n",
    "* Better than O(n)\n",
    "* ordered\n",
    "* Flexible Size\n",
    "\n",
    "#### Cons\n",
    "* No O(1) operations\n"
   ]
  },
  {
   "cell_type": "markdown",
   "id": "9e7de036",
   "metadata": {},
   "source": [
    "## 131. Exercise: Binary Search Tree"
   ]
  },
  {
   "cell_type": "code",
   "execution_count": 4,
   "id": "2a69961d",
   "metadata": {},
   "outputs": [
    {
     "name": "stdout",
     "output_type": "stream",
     "text": [
      "<__main__.BinarySearchTree object at 0x1079bd130>\n",
      "<__main__.BinarySearchTree object at 0x1079bd130>\n",
      "<__main__.BinarySearchTree object at 0x1079bd130>\n",
      "<__main__.BinarySearchTree object at 0x1079bd130>\n",
      "<__main__.BinarySearchTree object at 0x1079bd130>\n",
      "<__main__.BinarySearchTree object at 0x1079bd130>\n",
      "<__main__.BinarySearchTree object at 0x1079bd130>\n"
     ]
    }
   ],
   "source": [
    "class Node:\n",
    "    def __init__(self, value):\n",
    "        self.left = None\n",
    "        self.right = None\n",
    "        self.value = value\n",
    "        \n",
    "class BinarySearchTree:\n",
    "    def __init__(self):\n",
    "        self.root = None        \n",
    "        \n",
    "    def insert(self, value):\n",
    "        new_node = Node(value)\n",
    "        \n",
    "        if self.root == None:\n",
    "            self.root = new_node\n",
    "        else:\n",
    "            current_node = self.root\n",
    "            while current_node != None:\n",
    "                if current_node.value > value:\n",
    "                    current_node = current_node.right\n",
    "                else:\n",
    "                    current_node = current_node.left\n",
    "            current_node = new_node\n",
    "        \n",
    "    def lookup(self, value):\n",
    "        pass\n",
    "    \n",
    "    def remove(self, value):\n",
    "        pass\n",
    "    \n",
    "tree = BinarySearchTree()\n",
    "tree.insert(9)\n",
    "tree.insert(4)\n",
    "tree.insert(6)\n",
    "tree.insert(20)\n",
    "tree.insert(170)\n",
    "tree.insert(15)\n",
    "tree.insert(1)"
   ]
  },
  {
   "cell_type": "markdown",
   "id": "b4989191",
   "metadata": {},
   "source": [
    "## 132. Solution: insert()"
   ]
  },
  {
   "cell_type": "code",
   "execution_count": 41,
   "id": "97774273",
   "metadata": {},
   "outputs": [
    {
     "name": "stdout",
     "output_type": "stream",
     "text": [
      "[9, 4, 1]\n"
     ]
    }
   ],
   "source": [
    "class Node:\n",
    "    def __init__(self, value):\n",
    "        self.left = None\n",
    "        self.right = None\n",
    "        self.value = value\n",
    "\n",
    "\n",
    "class BinarySearchTree:\n",
    "    def __init__(self):\n",
    "        self.root = None\n",
    "\n",
    "    def insert(self, value):\n",
    "        new_node = Node(value)\n",
    "\n",
    "        if self.root == None:\n",
    "            self.root = new_node\n",
    "        else:\n",
    "            current_node = self.root\n",
    "            while True:\n",
    "                if current_node.value > value:  # go to the left\n",
    "                    if current_node.left == None:\n",
    "                        current_node.left = new_node\n",
    "                        return self\n",
    "                    else:\n",
    "                        current_node = current_node.left\n",
    "\n",
    "                else:  # go to the right\n",
    "                    if current_node.right == None:\n",
    "                        current_node.right = new_node\n",
    "                        return self\n",
    "                    else:\n",
    "                        current_node = current_node.right\n",
    "            current_node = new_node\n",
    "        return self.__dict__['root'].__dict__\n",
    "\n",
    "    def lookup(self, value):\n",
    "        current_node = self.root\n",
    "        dir_array = []\n",
    "        if current_node == None:\n",
    "            return None\n",
    "        else:\n",
    "            while True:\n",
    "                if current_node == None:\n",
    "                    return f\"there is no {value} in it.\"\n",
    "                elif current_node.value == value:\n",
    "                    dir_array.append(value)\n",
    "                    return dir_array\n",
    "                elif current_node.value < value:  # go right side node\n",
    "                    dir_array.append(current_node.value)\n",
    "                    current_node = current_node.right\n",
    "                else:\n",
    "                    dir_array.append(current_node.value)\n",
    "                    current_node = current_node.left\n",
    "\n",
    "    def remove(self, value):\n",
    "        pass\n",
    "\n",
    "\n",
    "tree = BinarySearchTree()\n",
    "tree.insert(9)\n",
    "tree.insert(4)\n",
    "tree.insert(6)\n",
    "tree.insert(20)\n",
    "tree.insert(170)\n",
    "tree.insert(15)\n",
    "tree.insert(1)\n",
    "print(tree.lookup(1))"
   ]
  },
  {
   "cell_type": "markdown",
   "id": "0f13c3b8",
   "metadata": {},
   "source": [
    "## 133. Solution: lookup()\n"
   ]
  },
  {
   "cell_type": "code",
   "execution_count": 43,
   "id": "6cd4bb8f",
   "metadata": {},
   "outputs": [
    {
     "name": "stdout",
     "output_type": "stream",
     "text": [
      "there is no 2 in it.\n"
     ]
    }
   ],
   "source": [
    "class Node:\n",
    "    def __init__(self, value):\n",
    "        self.left = None\n",
    "        self.right = None\n",
    "        self.value = value\n",
    "\n",
    "\n",
    "class BinarySearchTree:\n",
    "    def __init__(self):\n",
    "        self.root = None\n",
    "\n",
    "    def insert(self, value):\n",
    "        new_node = Node(value)\n",
    "\n",
    "        if self.root == None:\n",
    "            self.root = new_node\n",
    "        else:\n",
    "            current_node = self.root\n",
    "            while True:\n",
    "                if current_node.value > value:  # go to the left\n",
    "                    if current_node.left == None:\n",
    "                        current_node.left = new_node\n",
    "                        return self\n",
    "                    else:\n",
    "                        current_node = current_node.left\n",
    "\n",
    "                else:  # go to the right\n",
    "                    if current_node.right == None:\n",
    "                        current_node.right = new_node\n",
    "                        return self\n",
    "                    else:\n",
    "                        current_node = current_node.right\n",
    "            current_node = new_node\n",
    "        return self.__dict__['root'].__dict__\n",
    "\n",
    "    def lookup(self, value):\n",
    "        current_node = self.root\n",
    "        dir_array = []\n",
    "        if current_node == None:  # check wheter root is empty.\n",
    "            return None\n",
    "        else:\n",
    "            while True:\n",
    "                if current_node == None:\n",
    "                    return f\"there is no {value} in it.\"\n",
    "                elif current_node.value == value:  # if it matches with the current node.\n",
    "                    dir_array.append(value)\n",
    "                    return dir_array\n",
    "                elif current_node.value < value:  # go right side node\n",
    "                    dir_array.append(current_node.value)\n",
    "                    current_node = current_node.right\n",
    "                else:\n",
    "                    dir_array.append(current_node.value)\n",
    "                    current_node = current_node.left\n",
    "\n",
    "    def remove(self, value):\n",
    "        pass\n",
    "\n",
    "\n",
    "tree = BinarySearchTree()\n",
    "tree.insert(9)\n",
    "tree.insert(4)\n",
    "tree.insert(6)\n",
    "tree.insert(20)\n",
    "tree.insert(170)\n",
    "tree.insert(15)\n",
    "tree.insert(1)\n",
    "print(tree.lookup(2))"
   ]
  },
  {
   "cell_type": "markdown",
   "id": "408ae90b",
   "metadata": {},
   "source": [
    "## 134. Extra Exercise: remove()\n",
    "* it is little advanced\n",
    "* less likely to meet in interviews.\n",
    "* the best way to visualize the remove method is going back to the site"
   ]
  },
  {
   "cell_type": "code",
   "execution_count": null,
   "id": "7b89b454",
   "metadata": {},
   "outputs": [],
   "source": [
    "class Node:\n",
    "    def __init__(self, value):\n",
    "        self.left = None\n",
    "        self.right = None\n",
    "        self.value = value\n",
    "\n",
    "\n",
    "class BinarySearchTree:\n",
    "    def __init__(self):\n",
    "        self.root = None\n",
    "\n",
    "    def insert(self, value):\n",
    "        new_node = Node(value)\n",
    "\n",
    "        if self.root == None:\n",
    "            self.root = new_node\n",
    "        else:\n",
    "            current_node = self.root\n",
    "            while True:\n",
    "                if current_node.value > value:  # go to the left\n",
    "                    if current_node.left == None:\n",
    "                        current_node.left = new_node\n",
    "                        return self\n",
    "                    else:\n",
    "                        current_node = current_node.left\n",
    "\n",
    "                else:  # go to the right\n",
    "                    if current_node.right == None:\n",
    "                        current_node.right = new_node\n",
    "                        return self\n",
    "                    else:\n",
    "                        current_node = current_node.right\n",
    "            current_node = new_node\n",
    "        return self.__dict__['root'].__dict__\n",
    "\n",
    "    def lookup(self, value):\n",
    "        current_node = self.root\n",
    "        dir_array = []\n",
    "        if current_node == None:  # check wheter root is empty.\n",
    "            return None\n",
    "        else:\n",
    "            while True:\n",
    "                if current_node == None:\n",
    "                    return f\"there is no {value} in it.\"\n",
    "                elif current_node.value == value:  # if it matches with the current node.\n",
    "                    dir_array.append(value)\n",
    "                    return dir_array\n",
    "                elif current_node.value < value:  # go right side node\n",
    "                    dir_array.append(current_node.value)\n",
    "                    current_node = current_node.right\n",
    "                else:\n",
    "                    dir_array.append(current_node.value)\n",
    "                    current_node = current_node.left\n",
    "\n",
    "    def remove(self, value):\n",
    "        pass\n",
    "\n",
    "\n",
    "tree = BinarySearchTree()\n",
    "tree.insert(9)\n",
    "tree.insert(4)\n",
    "tree.insert(6)\n",
    "tree.insert(20)\n",
    "tree.insert(170)\n",
    "tree.insert(15)\n",
    "tree.insert(1)\n",
    "print(tree.lookup(2))"
   ]
  },
  {
   "cell_type": "markdown",
   "id": "161d6331",
   "metadata": {},
   "source": [
    "## 136. AVL Trees + Red Black Trees\n",
    "we don't need to code because there is library."
   ]
  },
  {
   "cell_type": "markdown",
   "id": "732aec7c",
   "metadata": {},
   "source": [
    "## 138. Binary Heaps\n",
    "two another common types of tree\n",
    "* Heaps\n",
    "* Trie\n",
    "\n",
    "Max heaps (binary heaps), there is also min heaps. top level has greater value than the lower level.\n",
    "\n",
    "* lookup -> O(n)\n",
    "* insert -> O(log N)\n",
    "* delete -> O(log N)\n",
    "\n",
    "it is really good at comparing operations."
   ]
  },
  {
   "cell_type": "markdown",
   "id": "ac8291e1",
   "metadata": {},
   "source": [
    "## 139. Quick Note on Heaps\n",
    "\n",
    "Memory Heap != Heap Data Structure"
   ]
  },
  {
   "cell_type": "markdown",
   "id": "417ef119",
   "metadata": {},
   "source": [
    "## 140. Priority Queue\n",
    "binary heaps take up the least amount of space."
   ]
  },
  {
   "cell_type": "markdown",
   "id": "21447058",
   "metadata": {},
   "source": [
    "## 141. Trie\n",
    "A trie is a specialized tree used in searching most often with text  \n",
    "providing auto completion. speed and space."
   ]
  },
  {
   "cell_type": "markdown",
   "id": "7d34acbe",
   "metadata": {},
   "source": [
    "## 142. Tree reviews"
   ]
  }
 ],
 "metadata": {
  "kernelspec": {
   "display_name": "Python 3 (ipykernel)",
   "language": "python",
   "name": "python3"
  },
  "language_info": {
   "codemirror_mode": {
    "name": "ipython",
    "version": 3
   },
   "file_extension": ".py",
   "mimetype": "text/x-python",
   "name": "python",
   "nbconvert_exporter": "python",
   "pygments_lexer": "ipython3",
   "version": "3.9.12"
  }
 },
 "nbformat": 4,
 "nbformat_minor": 5
}
