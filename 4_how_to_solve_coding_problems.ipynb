{
 "cells": [
  {
   "cell_type": "markdown",
   "id": "c0ff0224",
   "metadata": {},
   "source": [
    "# Section 4: How To Solve Coding Problems\n",
    "\n",
    "![Master_the_Interview](./img/Master_the_Interview.png)"
   ]
  },
  {
   "cell_type": "markdown",
   "id": "22e4a060",
   "metadata": {},
   "source": [
    "## 50. Section overview\n",
    "**main point:** \n",
    "* will you solve the company's problem.\n",
    "* It's thought process. You don't memorize things. You have to deeply understand it.\n",
    "* solving in the way that the company like.\n",
    "* It is not about our memories of the structures and algorithms.\n",
    "* different solutions based on time and space complexity"
   ]
  },
  {
   "cell_type": "markdown",
   "id": "407b13d6",
   "metadata": {},
   "source": [
    "## 51. What are companies looking For?\n",
    "1. Analytic skills \n",
    "2. Coding skills\n",
    "3. Technical skills\n",
    "4. Communication skills\n",
    "\n",
    "-> How can we think through the problems. they want to hear our thought process. coding skills. clean and organized. technical skills. did you just memorize things. communicating skills. need to communicate with others.\n",
    "\n",
    "-> you don't have to build the algorithm from the scratch. only need to know the existence of the concepts.\n",
    "\n",
    "-> do all the excercise in the course. re watch the video. and think why this answer is better than others."
   ]
  },
  {
   "cell_type": "markdown",
   "id": "ddfba6a6",
   "metadata": {},
   "source": [
    "## 52. What we need for coding interviews\n",
    "put our time and energy into right things.\n",
    "\n",
    "* data structures\n",
    " * Arrays\n",
    " * Trees\n",
    " * Stacks\n",
    " * Tries\n",
    " * Queuus\n",
    " * Graphs\n",
    " * Linked lists\n",
    " * Hash tables  \n",
    "  \n",
    "  \n",
    "* Algorithms\n",
    " * Sorting\n",
    " * Dynamic programming\n",
    " * BFS + DFS (Searching)\n",
    " * Recursion\n",
    " \n",
    " \n",
    " "
   ]
  },
  {
   "cell_type": "markdown",
   "id": "d3ea2073",
   "metadata": {},
   "source": [
    "## 53. Exercise: Google interview\n",
    "watch video and read step by step \n",
    "https://www.youtube.com/watch?v=XKu_SEDAykw&ab_channel=LifeatGoogle"
   ]
  },
  {
   "cell_type": "markdown",
   "id": "80129e60",
   "metadata": {},
   "source": [
    "## 54 and 55. Exercise: interview question\n"
   ]
  },
  {
   "cell_type": "code",
   "execution_count": 65,
   "id": "7445effd",
   "metadata": {},
   "outputs": [
    {
     "data": {
      "text/plain": [
       "True"
      ]
     },
     "execution_count": 65,
     "metadata": {},
     "output_type": "execute_result"
    }
   ],
   "source": [
    "# Given 2 arrays, create a function that let's a user know (true/false) \n",
    "# whether these two arrays contain any common items\n",
    "# For Example:\n",
    "# array1 = ['a', 'b', 'c', 'x']\n",
    "# array2 = ['z', 'y', 'i']\n",
    "# sould return false.\n",
    "# -----------------------------\n",
    "# array1 = ['a', 'b', 'c', 'x']\n",
    "# array2 = ['z', 'y', 'X']\n",
    "# sould return true.\n",
    "\n",
    "# 2 parameters -  arrays - no size limit\n",
    "# return true or false\n",
    "\n",
    "array1 = ['a', 'b', 'c']\n",
    "array2 = ['z', 'a', 'x']\n",
    "\n",
    "def contains_common_item(arr1, arr2):\n",
    "    for i in range(len(arr1)):\n",
    "        for j in range(len(arr2)):\n",
    "            if arr1[i] == arr2[j]:\n",
    "                return True\n",
    "    return False\n",
    "\n",
    "contains_common_item(array1, array2)  \n",
    "# O(a*b) Time complexity\n",
    "# O(1) Space complexity\n",
    "            "
   ]
  },
  {
   "cell_type": "code",
   "execution_count": 66,
   "id": "2f9fa6a6",
   "metadata": {},
   "outputs": [
    {
     "name": "stdout",
     "output_type": "stream",
     "text": [
      "True\n"
     ]
    }
   ],
   "source": [
    "array1 = ['a', 1, 'c']\n",
    "array2 = ['z', 1, 'x']\n",
    "\n",
    "def contains_common_item2(arr1, arr2):\n",
    "    # loop through first array and create object(dict) where properties == items in the array\n",
    "    dict1 = {item: True for item in arr1}\n",
    "    # loop through second array and check if item in second array exists on created object.\n",
    "    # O(a+b)\n",
    "    for i in range(len(arr2)):  # i used for loop is ok ,but naming others need to be careful.\n",
    "        if arr2[i] in dict1:  # dict -> hash meaning it's have time complexity as O(1) average\n",
    "            return True\n",
    "    return False\n",
    "\n",
    "print(contains_common_item2(array1, array2))  \n",
    "# O(a+b) Time complexity\n",
    "# O(a) Space complexity"
   ]
  },
  {
   "cell_type": "code",
   "execution_count": 67,
   "id": "b865ee31",
   "metadata": {},
   "outputs": [
    {
     "name": "stdout",
     "output_type": "stream",
     "text": [
      "{1}\n"
     ]
    }
   ],
   "source": [
    "def contains_common_item3(arr1, arr2):\n",
    "    return set(arr1) & set(arr2)  # return union\n",
    "\n",
    "print(contains_common_item3(array1, array2))  \n",
    "# O(a+b) Time complexity but readability is better"
   ]
  },
  {
   "cell_type": "markdown",
   "id": "3e5277be",
   "metadata": {},
   "source": [
    "modularize the code do one thinig "
   ]
  },
  {
   "cell_type": "markdown",
   "id": "195c969b",
   "metadata": {},
   "source": [
    "## 56. Review Google Interview"
   ]
  },
  {
   "cell_type": "code",
   "execution_count": null,
   "id": "db37b3e8",
   "metadata": {},
   "outputs": [],
   "source": [
    "# naive solution"
   ]
  },
  {
   "cell_type": "code",
   "execution_count": null,
   "id": "bbd2fd74",
   "metadata": {},
   "outputs": [],
   "source": [
    "# better solution"
   ]
  },
  {
   "cell_type": "markdown",
   "id": "261aa6d4",
   "metadata": {},
   "source": [
    "## 57. Optional Exercise: Google interview on your own\n",
    "1. Try and go throught the 15 steps on your own and answer the same question as in the Google interview in your own language by yourself or in front of a friend (or a fellow student on Discord). Share your code with everyone in our private Discord community in the #interview-questions channel.\n",
    "\n",
    "2. Rewatch the Google interview video and notice how you understand the steps a lot better now. Don't worry though, by the end of this course, I am going to show you this video one last time and you will see how it will all make sense and become second nature to you even more!"
   ]
  },
  {
   "cell_type": "markdown",
   "id": "4a7791c7",
   "metadata": {},
   "source": [
    "## 58. Section summary\n"
   ]
  }
 ],
 "metadata": {
  "kernelspec": {
   "display_name": "Python 3 (ipykernel)",
   "language": "python",
   "name": "python3"
  },
  "language_info": {
   "codemirror_mode": {
    "name": "ipython",
    "version": 3
   },
   "file_extension": ".py",
   "mimetype": "text/x-python",
   "name": "python",
   "nbconvert_exporter": "python",
   "pygments_lexer": "ipython3",
   "version": "3.9.12"
  }
 },
 "nbformat": 4,
 "nbformat_minor": 5
}
