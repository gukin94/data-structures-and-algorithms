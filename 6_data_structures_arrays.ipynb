{
 "cells": [
  {
   "cell_type": "markdown",
   "id": "9fcdef63",
   "metadata": {},
   "source": [
    "## 64. Arrays introduction\n",
    "* sometime called list\n",
    "* orgarnize things sequatially meaning one after others in memory.\n",
    "* \n",
    "\n",
    "### Big O\n",
    "* loopup O(1)\n",
    "* push O(1)\n",
    "* insert O(n)\n",
    "* delete O(n)\n",
    "\n"
   ]
  },
  {
   "cell_type": "code",
   "execution_count": 1,
   "id": "3422f644",
   "metadata": {},
   "outputs": [
    {
     "data": {
      "text/plain": [
       "'c'"
      ]
     },
     "execution_count": 1,
     "metadata": {},
     "output_type": "execute_result"
    }
   ],
   "source": [
    "strings = ['a', 'b', 'c', 'd']\n",
    "## 4 items * 4 shelf for one char = 16 bytes of the storage.\n",
    "\n",
    "strings[2]  # grab 3rd item."
   ]
  },
  {
   "cell_type": "code",
   "execution_count": 2,
   "id": "b2efa22e",
   "metadata": {},
   "outputs": [
    {
     "name": "stdout",
     "output_type": "stream",
     "text": [
      "['a', 'b', 'c', 'd', 'e']\n"
     ]
    }
   ],
   "source": [
    "strings = ['a', 'b', 'c', 'd']\n",
    "\n",
    "# push\n",
    "strings.append('e')  # O(1) *it can be O(n) because it's going to roop over the array.\n",
    "print(strings)"
   ]
  },
  {
   "cell_type": "code",
   "execution_count": 4,
   "id": "dcedf8b5",
   "metadata": {},
   "outputs": [
    {
     "name": "stdout",
     "output_type": "stream",
     "text": [
      "['a', 'b', 'c']\n"
     ]
    }
   ],
   "source": [
    "strings = ['a', 'b', 'c', 'd']\n",
    "\n",
    "# pop\n",
    "strings.pop()  # O(1) because we are not looping through the list. computers know where the last item is.\n",
    "\n",
    "print(strings)"
   ]
  },
  {
   "cell_type": "code",
   "execution_count": 5,
   "id": "f2a24c68",
   "metadata": {},
   "outputs": [
    {
     "name": "stdout",
     "output_type": "stream",
     "text": [
      "['x', 'a', 'b', 'c', 'd']\n"
     ]
    }
   ],
   "source": [
    "strings = ['a', 'b', 'c', 'd']\n",
    "\n",
    "# unshift\n",
    "strings.insert(0, 'x')  # we have to shift the original element in the list to the right and insert new one.\n",
    "print(strings)  # O(n) with the array maybe it's not the best to add element in the middle of the array."
   ]
  },
  {
   "cell_type": "code",
   "execution_count": 1,
   "id": "ed866eca",
   "metadata": {},
   "outputs": [
    {
     "name": "stdout",
     "output_type": "stream",
     "text": [
      "['a', 'b', 'alien', 'c', 'd']\n"
     ]
    }
   ],
   "source": [
    "strings = ['a', 'b', 'c', 'd']\n",
    "\n",
    "# unshift\n",
    "strings.insert(2, 'alien')  # O(n/2) -> O(n)\n",
    "print(strings)"
   ]
  },
  {
   "cell_type": "markdown",
   "id": "907c31df",
   "metadata": {},
   "source": [
    "## 65. Static vs Dynamic arrays\n",
    "```cpp\n",
    "int a[20];\n",
    "int b[5] {1,2,3,4,5}\n",
    "```\n",
    "\n",
    "I want array that has space 20\n",
    "language like js and python that have list workking like dynamic arrays. They automatically allocate memeories.\n",
    "that's why lower language can be fast."
   ]
  },
  {
   "cell_type": "markdown",
   "id": "7713c533",
   "metadata": {},
   "source": [
    "## 67. Optional: Classes in Javascript"
   ]
  },
  {
   "cell_type": "markdown",
   "id": "e8faa6e0",
   "metadata": {},
   "source": [
    "### Reference type"
   ]
  },
  {
   "cell_type": "code",
   "execution_count": 10,
   "id": "5aa0bca8",
   "metadata": {},
   "outputs": [
    {
     "name": "stdout",
     "output_type": "stream",
     "text": [
      "a is b:  True\n",
      "a is c:  False\n"
     ]
    }
   ],
   "source": [
    "a = [1,2]\n",
    "b = a\n",
    "c = [1,2]\n",
    "\n",
    "print(f\"a is b: \",a is b)\n",
    "print(f\"a is c: \",a is c)"
   ]
  },
  {
   "cell_type": "code",
   "execution_count": 11,
   "id": "0297c491",
   "metadata": {},
   "outputs": [
    {
     "name": "stdout",
     "output_type": "stream",
     "text": [
      "a is b:  True\n",
      "a is c:  False\n"
     ]
    }
   ],
   "source": [
    "a = 12345\n",
    "b = a\n",
    "c = 12345\n",
    "\n",
    "print(f\"a is b: \",a is b)\n",
    "print(f\"a is c: \",a is c)"
   ]
  },
  {
   "cell_type": "code",
   "execution_count": 12,
   "id": "0c522bac",
   "metadata": {},
   "outputs": [
    {
     "name": "stdout",
     "output_type": "stream",
     "text": [
      "a is b:  True\n",
      "a is c:  True\n"
     ]
    }
   ],
   "source": [
    "a = 1\n",
    "b = a\n",
    "c = 1\n",
    "\n",
    "print(f\"a is b: \",a is b)\n",
    "print(f\"a is c: \",a is c)"
   ]
  },
  {
   "cell_type": "code",
   "execution_count": 13,
   "id": "6d308089",
   "metadata": {},
   "outputs": [
    {
     "name": "stdout",
     "output_type": "stream",
     "text": [
      "a is b:  True\n",
      "a is c:  True\n"
     ]
    }
   ],
   "source": [
    "a = \"hello\"\n",
    "b = a\n",
    "c = 'hello'  # using the 1 that python knows about.\n",
    "\n",
    "print(f\"a is b: \",a is b)\n",
    "print(f\"a is c: \",a is c)"
   ]
  },
  {
   "cell_type": "markdown",
   "id": "eb9c07ca",
   "metadata": {},
   "source": [
    "### context vs scope"
   ]
  },
  {
   "cell_type": "code",
   "execution_count": 39,
   "id": "587a3bdd",
   "metadata": {},
   "outputs": [
    {
     "ename": "NameError",
     "evalue": "name 'local_variable' is not defined",
     "output_type": "error",
     "traceback": [
      "\u001b[0;31m---------------------------------------------------------------------------\u001b[0m",
      "\u001b[0;31mNameError\u001b[0m                                 Traceback (most recent call last)",
      "Input \u001b[0;32mIn [39]\u001b[0m, in \u001b[0;36m<cell line: 4>\u001b[0;34m()\u001b[0m\n\u001b[1;32m      1\u001b[0m \u001b[38;5;28;01mdef\u001b[39;00m \u001b[38;5;21mfunction_\u001b[39m():\n\u001b[1;32m      2\u001b[0m     local_variable \u001b[38;5;241m=\u001b[39m \u001b[38;5;241m4\u001b[39m\n\u001b[0;32m----> 4\u001b[0m \u001b[38;5;28mprint\u001b[39m(\u001b[43mlocal_variable\u001b[49m)\n",
      "\u001b[0;31mNameError\u001b[0m: name 'local_variable' is not defined"
     ]
    }
   ],
   "source": [
    "def function_():\n",
    "    local_variable = 4\n",
    "    \n",
    "print(local_variable)"
   ]
  },
  {
   "cell_type": "markdown",
   "id": "c97a15bc",
   "metadata": {},
   "source": [
    "### instantiation\n",
    "create an object of every single character is waste of time."
   ]
  },
  {
   "cell_type": "code",
   "execution_count": 25,
   "id": "b5cfa76d",
   "metadata": {},
   "outputs": [],
   "source": [
    "class Player:\n",
    "    def __init__(self, name, type_):\n",
    "        self.name = name\n",
    "        self.type_ = type_\n",
    "        \n",
    "    def introduce(self):\n",
    "        print(f'Hi I am {self.name}, I am a {self.type_}')"
   ]
  },
  {
   "cell_type": "markdown",
   "id": "914434de",
   "metadata": {},
   "source": [
    "let's say we want to have wizard player"
   ]
  },
  {
   "cell_type": "code",
   "execution_count": 34,
   "id": "41428630",
   "metadata": {},
   "outputs": [],
   "source": [
    "class Wizard(Player):\n",
    "    def __init__(self, name, type_):\n",
    "        super().__init__(name, type_)\n",
    "        \n",
    "    def play(self):\n",
    "        print(f\"WEEEEE I'm a {self.type_}\")"
   ]
  },
  {
   "cell_type": "code",
   "execution_count": 35,
   "id": "c95da70f",
   "metadata": {},
   "outputs": [],
   "source": [
    "wizard1 = Wizard(\"Shelly\", \"Healer\")\n",
    "Wizard2 = Wizard(\"Shawn\", \"Dark Magic\")"
   ]
  },
  {
   "cell_type": "code",
   "execution_count": 36,
   "id": "e7d31a54",
   "metadata": {},
   "outputs": [
    {
     "name": "stdout",
     "output_type": "stream",
     "text": [
      "WEEEEE I'm a Healer\n"
     ]
    }
   ],
   "source": [
    "wizard1.play()"
   ]
  },
  {
   "cell_type": "code",
   "execution_count": 37,
   "id": "46ca67c1",
   "metadata": {},
   "outputs": [
    {
     "name": "stdout",
     "output_type": "stream",
     "text": [
      "Hi I am Shelly, I am a Healer\n"
     ]
    }
   ],
   "source": [
    "wizard1.introduce()"
   ]
  },
  {
   "cell_type": "markdown",
   "id": "bf94fa6a",
   "metadata": {},
   "source": [
    "## 68. Implement an array\n",
    "1. How to build one\n",
    "2. How to use it\n",
    "\n",
    "which is not important and asked to answer."
   ]
  },
  {
   "cell_type": "code",
   "execution_count": 43,
   "id": "f36f1859",
   "metadata": {},
   "outputs": [
    {
     "ename": "IndexError",
     "evalue": "list index out of range",
     "output_type": "error",
     "traceback": [
      "\u001b[0;31m---------------------------------------------------------------------------\u001b[0m",
      "\u001b[0;31mIndexError\u001b[0m                                Traceback (most recent call last)",
      "Input \u001b[0;32mIn [43]\u001b[0m, in \u001b[0;36m<cell line: 10>\u001b[0;34m()\u001b[0m\n\u001b[1;32m      7\u001b[0m         \u001b[38;5;28;01mreturn\u001b[39;00m \u001b[38;5;28mself\u001b[39m\u001b[38;5;241m.\u001b[39mdata[index_]\n\u001b[1;32m      9\u001b[0m new_array \u001b[38;5;241m=\u001b[39m MyArray()\n\u001b[0;32m---> 10\u001b[0m \u001b[38;5;28mprint\u001b[39m(\u001b[43mnew_array\u001b[49m\u001b[38;5;241;43m.\u001b[39;49m\u001b[43mget_\u001b[49m\u001b[43m(\u001b[49m\u001b[38;5;241;43m0\u001b[39;49m\u001b[43m)\u001b[49m)\n",
      "Input \u001b[0;32mIn [43]\u001b[0m, in \u001b[0;36mMyArray.get_\u001b[0;34m(self, index_)\u001b[0m\n\u001b[1;32m      6\u001b[0m \u001b[38;5;28;01mdef\u001b[39;00m \u001b[38;5;21mget_\u001b[39m(\u001b[38;5;28mself\u001b[39m, index_):\n\u001b[0;32m----> 7\u001b[0m     \u001b[38;5;28;01mreturn\u001b[39;00m \u001b[38;5;28;43mself\u001b[39;49m\u001b[38;5;241;43m.\u001b[39;49m\u001b[43mdata\u001b[49m\u001b[43m[\u001b[49m\u001b[43mindex_\u001b[49m\u001b[43m]\u001b[49m\n",
      "\u001b[0;31mIndexError\u001b[0m: list index out of range"
     ]
    }
   ],
   "source": [
    "class MyArray:\n",
    "    def __init__(self):\n",
    "        self.legnth = 0\n",
    "        self.data = []\n",
    "        \n",
    "    def get_(self, index_):\n",
    "        return self.data[index_]\n",
    "        \n",
    "new_array = MyArray()\n",
    "print(new_array.get_(0))"
   ]
  },
  {
   "cell_type": "code",
   "execution_count": 61,
   "id": "4507f2aa",
   "metadata": {},
   "outputs": [
    {
     "name": "stdout",
     "output_type": "stream",
     "text": [
      "{0: 'hi', 1: 'are', 2: 'nice'}\n",
      "3\n"
     ]
    }
   ],
   "source": [
    "class MyArray:\n",
    "    def __init__(self):\n",
    "        self.length = 0\n",
    "        self.data = {}\n",
    "        \n",
    "    def get_(self, index_):\n",
    "        return self.data[index_]\n",
    "    \n",
    "    def push_(self, item):\n",
    "        self.data[self.length] = item\n",
    "        self.length += 1\n",
    "        return self.length\n",
    "    \n",
    "    def pop_(self):  # remove the element in the last\n",
    "        last_item = self.data[self.length-1]\n",
    "        del self.data[self.length-1]\n",
    "        self.length -= 1\n",
    "        return last_item\n",
    "    \n",
    "    def delete_(self, index_):\n",
    "        item = self.data[index_]\n",
    "        self.shift_item(index_)\n",
    "        \n",
    "    def shift_item(self, index_):\n",
    "        for i in range(index_, len(self.data)-1):\n",
    "            self.data[i] = self.data[i+1]\n",
    "            self.pop_()\n",
    "            self.length -= 1\n",
    "        \n",
    "        \n",
    "new_array = MyArray()\n",
    "new_array.push_('hi')\n",
    "new_array.push_(\"you\")\n",
    "new_array.push_(\"!\")\n",
    "new_array.delete_(1)\n",
    "new_array.push_('are')\n",
    "new_array.push_('nice')\n",
    "print(new_array.data)\n",
    "print(new_array.length)"
   ]
  },
  {
   "cell_type": "markdown",
   "id": "359a61a8",
   "metadata": {},
   "source": [
    "## 69. Strings and arrays\n",
    "### String question?\n",
    "reverse a string\n",
    "to convert this in array and split()\n",
    "returning it as string."
   ]
  },
  {
   "cell_type": "markdown",
   "id": "199c8727",
   "metadata": {},
   "source": [
    "## 70. Exercie: Reverse a string\n",
    "\n",
    "string can be treated as array by `list()`\n",
    "\n",
    "Create a function that reverses a string:\n",
    "\"Hi My name is Andrei\" should be:\n",
    "\"ierdnA si eman yM iH\""
   ]
  },
  {
   "cell_type": "markdown",
   "id": "be32ccb8",
   "metadata": {},
   "source": [
    "## 71. Solution: Reverse a string"
   ]
  },
  {
   "cell_type": "code",
   "execution_count": 91,
   "id": "cbc8a203",
   "metadata": {},
   "outputs": [
    {
     "name": "stdout",
     "output_type": "stream",
     "text": [
      "Hi My name is Andrei\n",
      "ierdnA si eman yM iH\n"
     ]
    }
   ],
   "source": [
    "str_ = \"Hi My name is Andrei\"\n",
    "print(str_)\n",
    "\n",
    "def reverse(str_):  \n",
    "    # check input\n",
    "    if (type(str_) != str) or (len(str_) < 2):\n",
    "        return \"hmm that is not good\"\n",
    "    else:\n",
    "        total_items = len(str_)-1\n",
    "        reversed_str = str()\n",
    "        for i in range(total_items, 0-1, -1):  # n, n-1, n-2, ... , 0\n",
    "            reversed_str += str_[i]\n",
    "        return reversed_str\n",
    "\n",
    "reversed_str = reverse(str_)\n",
    "print(reversed_str)"
   ]
  },
  {
   "cell_type": "code",
   "execution_count": 1,
   "id": "457d3db5",
   "metadata": {},
   "outputs": [
    {
     "ename": "NameError",
     "evalue": "name 'str_' is not defined",
     "output_type": "error",
     "traceback": [
      "\u001b[0;31m---------------------------------------------------------------------------\u001b[0m",
      "\u001b[0;31mNameError\u001b[0m                                 Traceback (most recent call last)",
      "Input \u001b[0;32mIn [1]\u001b[0m, in \u001b[0;36m<cell line: 7>\u001b[0;34m()\u001b[0m\n\u001b[1;32m      4\u001b[0m         reversed_str \u001b[38;5;241m=\u001b[39m char \u001b[38;5;241m+\u001b[39m reversed_str\n\u001b[1;32m      5\u001b[0m     \u001b[38;5;28;01mreturn\u001b[39;00m reversed_str\n\u001b[0;32m----> 7\u001b[0m reversed_str \u001b[38;5;241m=\u001b[39m reverse2(\u001b[43mstr_\u001b[49m)\n\u001b[1;32m      8\u001b[0m \u001b[38;5;28mprint\u001b[39m(reversed_str)\n",
      "\u001b[0;31mNameError\u001b[0m: name 'str_' is not defined"
     ]
    }
   ],
   "source": [
    "def reverse2(str_):\n",
    "    reversed_str = ''\n",
    "    for char in str_:\n",
    "        reversed_str = char + reversed_str\n",
    "    return reversed_str\n",
    "\n",
    "reversed_str = reverse2(str_)\n",
    "print(reversed_str)"
   ]
  },
  {
   "cell_type": "code",
   "execution_count": 2,
   "id": "49f69c31",
   "metadata": {},
   "outputs": [
    {
     "ename": "NameError",
     "evalue": "name 'str_' is not defined",
     "output_type": "error",
     "traceback": [
      "\u001b[0;31m---------------------------------------------------------------------------\u001b[0m",
      "\u001b[0;31mNameError\u001b[0m                                 Traceback (most recent call last)",
      "Input \u001b[0;32mIn [2]\u001b[0m, in \u001b[0;36m<cell line: 6>\u001b[0;34m()\u001b[0m\n\u001b[1;32m      3\u001b[0m     a\u001b[38;5;241m.\u001b[39mreverse()\n\u001b[1;32m      4\u001b[0m     \u001b[38;5;28;01mreturn\u001b[39;00m \u001b[38;5;124m'\u001b[39m\u001b[38;5;124m'\u001b[39m\u001b[38;5;241m.\u001b[39mjoin(a)\n\u001b[0;32m----> 6\u001b[0m \u001b[38;5;28mprint\u001b[39m(reverse3(\u001b[43mstr_\u001b[49m))\n",
      "\u001b[0;31mNameError\u001b[0m: name 'str_' is not defined"
     ]
    }
   ],
   "source": [
    "def reverse3(str_):\n",
    "    a = list(str_)\n",
    "    a.reverse()\n",
    "    return ''.join(a)\n",
    "\n",
    "print(reverse3(str_))"
   ]
  },
  {
   "cell_type": "markdown",
   "id": "7015a9f0",
   "metadata": {},
   "source": [
    "## 72. Exercise: Merge sorted arrays"
   ]
  },
  {
   "cell_type": "code",
   "execution_count": null,
   "id": "09ed3d58",
   "metadata": {},
   "outputs": [],
   "source": [
    "merge_sorted_arrays([0, 3, 4, 31], [4, 6, 30])\n",
    "# [0, 3, 4, 4, 6, 30, 31]"
   ]
  },
  {
   "cell_type": "markdown",
   "id": "f4c7486f",
   "metadata": {},
   "source": [
    "## 73. Solution: Merge sorted arrays\n",
    "다시 볼것"
   ]
  },
  {
   "cell_type": "code",
   "execution_count": 10,
   "id": "ef0214c7",
   "metadata": {},
   "outputs": [
    {
     "name": "stdout",
     "output_type": "stream",
     "text": [
      "3 4\n",
      "[3]\n",
      "4 4\n",
      "[3, 4]\n",
      "4 6\n",
      "[3, 4, 4]\n",
      "31 6\n",
      "[3, 4, 4, 6]\n",
      "31 30\n",
      "[3, 4, 4, 6, 30]\n",
      "[3, 4, 4, 6, 30]\n"
     ]
    }
   ],
   "source": [
    "def merge_sorted_arrays(array1, array2):\n",
    "    merged_array = []\n",
    "\n",
    "    # check input\n",
    "    # what if we have empty second array or the empty first one.\n",
    "    if len(array1) == 0: # if array1 is empty\n",
    "        return array2 # then just return array2\n",
    "    elif len(array2) == 0: # if array2 is empty\n",
    "        return array1 # then just return array1\n",
    "    \n",
    "    i = 0\n",
    "    j = 0\n",
    "\n",
    "    length_array1 = len(array1)\n",
    "    length_array2 = len(array2)\n",
    "    while (i < length_array1) and (j < length_array2):\n",
    "        array1_item = array1[i]\n",
    "        array2_item = array2[j]\n",
    "        print(array1_item, array2_item)\n",
    "        if array1_item < array2_item:\n",
    "            merged_array.append(array1_item)\n",
    "            i += 1\n",
    "        else:\n",
    "            merged_array.append(array2_item)\n",
    "            j += 1\n",
    "        print(merged_array)\n",
    "\n",
    "    return merged_array\n",
    "\n",
    "\n",
    "\n",
    "print(merge_sorted_arrays([3, 4, 31], [4, 6, 30]))"
   ]
  },
  {
   "cell_type": "markdown",
   "id": "4708ce70",
   "metadata": {},
   "source": [
    "## 74. Interview questions: arrays\n",
    "\n",
    "1. Two sum https://leetcode.com/problems/two-sum/description/\n",
    "2. Maximum subarray https://leetcode.com/problems/maximum-subarray/description/\n",
    "3. Move zeroes https://leetcode.com/problems/move-zeroes/description/\n",
    "4. Contins duplicate https://leetcode.com/problems/contains-duplicate/description/\n",
    "5. Rotate array https://leetcode.com/problems/rotate-array/description/\n",
    "6. Logest word https://www.coderbyte.com/language/Longest%20Word\n",
    "\n"
   ]
  },
  {
   "cell_type": "markdown",
   "id": "56d804d1",
   "metadata": {},
   "source": [
    "## 75. Arrays Review\n",
    "If arrays are sorted.\n",
    "\n",
    "### Pros\n",
    "* Fast lookups\n",
    "* Fast push/pop\n",
    "* Ordered\n",
    "\n",
    "### Cons\n",
    "* Slow inserts\n",
    "* Slow deletes\n",
    "* Fixed size -> if you using static array"
   ]
  }
 ],
 "metadata": {
  "kernelspec": {
   "display_name": "Python 3 (ipykernel)",
   "language": "python",
   "name": "python3"
  },
  "language_info": {
   "codemirror_mode": {
    "name": "ipython",
    "version": 3
   },
   "file_extension": ".py",
   "mimetype": "text/x-python",
   "name": "python",
   "nbconvert_exporter": "python",
   "pygments_lexer": "ipython3",
   "version": "3.9.12"
  }
 },
 "nbformat": 4,
 "nbformat_minor": 5
}
