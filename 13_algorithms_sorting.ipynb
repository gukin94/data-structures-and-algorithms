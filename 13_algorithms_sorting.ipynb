{
 "cells": [
  {
   "cell_type": "markdown",
   "id": "5816da7c",
   "metadata": {},
   "source": [
    "## 164. Sorting introduction\n",
    "* in an interview, sorting is really important.\n",
    "\n",
    "### what's all the fuss with sorting?\n",
    "with small data, it is not important."
   ]
  },
  {
   "cell_type": "code",
   "execution_count": 6,
   "id": "77aec0ed",
   "metadata": {},
   "outputs": [
    {
     "name": "stdout",
     "output_type": "stream",
     "text": [
      "['a', 'b', 'd', 'e', 'r', 'z']\n"
     ]
    }
   ],
   "source": [
    "letters = ['a', 'd', 'z', 'e', 'r', 'b']\n",
    "sorted_letters = sorted(letters)\n",
    "print(sorted_letters)"
   ]
  },
  {
   "cell_type": "markdown",
   "id": "3d079d5c",
   "metadata": {},
   "source": [
    "* we don't care about small inputs because that's easy to do.\n",
    "* It starts costing companies a lot of money when we have to perform operations on larger and larger data.\n",
    "* ex) google has a ton of websites that are indexed. (sorted based on date), Amazon and apple.\n",
    "* they usually need costomed sorting methods.\n",
    "\n",
    "we gonna talk about\n",
    "* bubble sort\n",
    "* insertion sort\n",
    "* selection sort\n",
    "* merge sort\n",
    "* quick sort"
   ]
  },
  {
   "cell_type": "markdown",
   "id": "9028e2c9",
   "metadata": {},
   "source": [
    "## 165. The issue with `sort()`"
   ]
  },
  {
   "cell_type": "code",
   "execution_count": 5,
   "id": "bc2c9373",
   "metadata": {},
   "outputs": [
    {
     "name": "stdout",
     "output_type": "stream",
     "text": [
      "None\n"
     ]
    }
   ],
   "source": [
    "letters = ['a', 'd', 'z', 'e', 'r', 'b']\n",
    "basket = [2, 65, 34, 2, 1, 7, 8]\n",
    "sorted_basket = sorted(basket)\n",
    "print(basket.sort())\n",
    "# print(sorted_basket)"
   ]
  },
  {
   "cell_type": "markdown",
   "id": "15fbeee3",
   "metadata": {},
   "source": [
    "first, it turn into string (uni-code). and sorting the words based on the uni-code number. It can be confusing.\n",
    "therefore, it is recommended to read document, for example sort()\n"
   ]
  },
  {
   "cell_type": "markdown",
   "id": "b7385ad4",
   "metadata": {},
   "source": [
    "## 166. Sorting Algorithms\n",
    "* we do need to know how they work.\n",
    "* implementing it from scratch, that doesn't really happen.\n",
    "* the key is **trade off**. there is trade off as well.\n",
    "* we need to know when to use what algorithms\n",
    "* see -> https://www.toptal.com/developers/sorting-algorithms\n",
    "\n",
    "what we are going to learn:\n",
    "* Bubble sort (basic)\n",
    "* Insert sort\n",
    "* Selection sort\n",
    "* Merge sort (complex)\n",
    "* Quick sort"
   ]
  },
  {
   "cell_type": "markdown",
   "id": "86ef8dba",
   "metadata": {},
   "source": [
    "## 167. Bubble sort\n",
    "time complexity\n",
    "* average: O(n^2)\n",
    "\n",
    "space complexity\n",
    "* O(1)"
   ]
  },
  {
   "cell_type": "markdown",
   "id": "133132ad",
   "metadata": {},
   "source": [
    "## 168. Exercise: Bubble sort"
   ]
  },
  {
   "cell_type": "code",
   "execution_count": 19,
   "id": "88346443",
   "metadata": {},
   "outputs": [
    {
     "name": "stdout",
     "output_type": "stream",
     "text": [
      "[0, 1, 2, 4, 5, 6, 44, 63, 87, 99, 283]\n"
     ]
    }
   ],
   "source": [
    "numbers = [99, 44, 6, 2, 1, 5, 63, 87, 283, 4, 0]\n",
    "\n",
    "def bubble_sort(array):  # there is no additional data besides the input.\n",
    "    length_array = len(array)\n",
    "    for _ in range(length_array-1):  # O(n^2)\n",
    "        for i in range(length_array-1):\n",
    "            first = array[i]\n",
    "            second = array[i+1]\n",
    "            \n",
    "            # swap numbers\n",
    "            if second < first:\n",
    "                array[i] = second\n",
    "                array[i+1] = first\n",
    "    return array\n",
    "\n",
    "numbers = bubble_sort(numbers)\n",
    "print(numbers)"
   ]
  },
  {
   "cell_type": "markdown",
   "id": "7763db4c",
   "metadata": {},
   "source": [
    "## 170. Selection sort\n",
    "* the algorithm works by scanning a list of items for the smallest element and then swapping that element for the one in the first position."
   ]
  },
  {
   "cell_type": "code",
   "execution_count": 32,
   "id": "8a50ac27",
   "metadata": {},
   "outputs": [
    {
     "name": "stdout",
     "output_type": "stream",
     "text": [
      "[0, 1, 2, 4, 5, 6, 44, 63, 87, 99, 283]\n"
     ]
    }
   ],
   "source": [
    "numbers = [99, 44, 6, 2, 1, 5, 63, 87, 283, 4, 0]\n",
    "\n",
    "def selection_sort(array):\n",
    "    length_array = len(array)\n",
    "    \n",
    "    for j in range(length_array-1):\n",
    "        start_idx = j\n",
    "        min_num_idx = start_idx\n",
    "        min_num = array[start_idx]\n",
    "        for i in range(j+1, length_array):\n",
    "            if min_num > array[i]:\n",
    "                min_num = array[i]\n",
    "                min_num_idx = i\n",
    "\n",
    "        # swap operation\n",
    "        num_start = array[start_idx]\n",
    "        array[start_idx] = min_num\n",
    "        array[min_num_idx] = num_start\n",
    "    return array\n",
    "\n",
    "numbers = selection_sort(numbers)\n",
    "print(numbers)"
   ]
  },
  {
   "cell_type": "markdown",
   "id": "3918f179",
   "metadata": {},
   "source": [
    "## 173. Dancing Algorithms\n",
    "* check this out -> https://www.youtube.com/user/AlgoRythmics/videos"
   ]
  },
  {
   "cell_type": "markdown",
   "id": "01471c78",
   "metadata": {},
   "source": [
    "## 174.Insertion sort\n",
    "* insertion sort is useful for times when you're pretty sure the list is almost sorted."
   ]
  }
 ],
 "metadata": {
  "kernelspec": {
   "display_name": "Python 3 (ipykernel)",
   "language": "python",
   "name": "python3"
  },
  "language_info": {
   "codemirror_mode": {
    "name": "ipython",
    "version": 3
   },
   "file_extension": ".py",
   "mimetype": "text/x-python",
   "name": "python",
   "nbconvert_exporter": "python",
   "pygments_lexer": "ipython3",
   "version": "3.9.12"
  }
 },
 "nbformat": 4,
 "nbformat_minor": 5
}
